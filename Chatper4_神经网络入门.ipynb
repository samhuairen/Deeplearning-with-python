{
  "nbformat": 4,
  "nbformat_minor": 0,
  "metadata": {
    "colab": {
      "provenance": [],
      "gpuType": "T4",
      "authorship_tag": "ABX9TyOwgbWfvV1hiku4LVbxnntZ",
      "include_colab_link": true
    },
    "kernelspec": {
      "name": "python3",
      "display_name": "Python 3"
    },
    "language_info": {
      "name": "python"
    },
    "accelerator": "GPU"
  },
  "cells": [
    {
      "cell_type": "markdown",
      "metadata": {
        "id": "view-in-github",
        "colab_type": "text"
      },
      "source": [
        "<a href=\"https://colab.research.google.com/github/samhuairen/Deeplearning-with-python/blob/main/Chatper4_%E7%A5%9E%E7%BB%8F%E7%BD%91%E7%BB%9C%E5%85%A5%E9%97%A8.ipynb\" target=\"_parent\"><img src=\"https://colab.research.google.com/assets/colab-badge.svg\" alt=\"Open In Colab\"/></a>"
      ]
    },
    {
      "cell_type": "code",
      "execution_count": 2,
      "metadata": {
        "colab": {
          "base_uri": "https://localhost:8080/"
        },
        "id": "J6J0fIGF7C-W",
        "outputId": "8386ad20-35b5-4b85-cd9b-0f85fce60c39"
      },
      "outputs": [
        {
          "output_type": "stream",
          "name": "stdout",
          "text": [
            "Downloading data from https://storage.googleapis.com/tensorflow/tf-keras-datasets/imdb.npz\n",
            "17464789/17464789 [==============================] - 1s 0us/step\n"
          ]
        }
      ],
      "source": [
        "# 代码清单 4-1 加载IMDB数据集\n",
        "from tensorflow.keras.datasets import imdb\n",
        "(train_data, train_labels), (test_data, test_lables) = imdb.load_data(num_words=10000)\n",
        "# num_words 是保留训练数据中前10000个最常出现的单词"
      ]
    },
    {
      "cell_type": "code",
      "source": [
        "#len(train_data[100]) 每条评论是是每个单词在常用的10000个单词中的索引，每个评论的长度各不相同，\n",
        "train_labels[2]\n"
      ],
      "metadata": {
        "colab": {
          "base_uri": "https://localhost:8080/"
        },
        "id": "QcRAJEEE75l5",
        "outputId": "21f41dd5-2491-432d-8aa3-3a1f0c487ce5"
      },
      "execution_count": 3,
      "outputs": [
        {
          "output_type": "execute_result",
          "data": {
            "text/plain": [
              "0"
            ]
          },
          "metadata": {},
          "execution_count": 3
        }
      ]
    },
    {
      "cell_type": "code",
      "source": [
        "max([max(sequence) for sequence in train_data]) # 最大的索引不会超过10000"
      ],
      "metadata": {
        "id": "hbX_1slj76fC"
      },
      "execution_count": null,
      "outputs": []
    },
    {
      "cell_type": "code",
      "source": [
        "# 代码清单 4-2 将评论解码为文本\n",
        "word_index = imdb.get_word_index () # 这个是一个将88585个单词按照出现的频率进行排序后，建立一个索引，索引从1开始的一个字典，每个唯一的单词都对应一个索引\n",
        "reverse_word_index = dict([ (value, key) for(key, value) in word_index.items()])\n",
        "decoded_view = \" \".join(\n",
        "    [reverse_word_index.get(i - 3, '?') for i in train_data[1]]\n",
        ")\n"
      ],
      "metadata": {
        "colab": {
          "base_uri": "https://localhost:8080/"
        },
        "id": "X1kVbQhf9s-r",
        "outputId": "ca6ddc9a-b0ca-412f-a585-c9b3a192a627"
      },
      "execution_count": 4,
      "outputs": [
        {
          "output_type": "stream",
          "name": "stdout",
          "text": [
            "Downloading data from https://storage.googleapis.com/tensorflow/tf-keras-datasets/imdb_word_index.json\n",
            "1641221/1641221 [==============================] - 1s 0us/step\n"
          ]
        }
      ]
    },
    {
      "cell_type": "markdown",
      "source": [
        " train_data 中的每一个评论的单词都是来自上面字典中的索引，为了还原这个评论，我们首先将原来的字典按照（索引：单词）的顺序进行重新排布，然后根据我们评论里的序列去找这个反向字典里的索引，从而找到对应的字。然后组合起来就是评论，索引找不到的字，用？表示"
      ],
      "metadata": {
        "id": "5cvrzzCEQDyq"
      }
    },
    {
      "cell_type": "markdown",
      "source": [
        "4.1.2 准备数据\n",
        "这部分是准备输入神经网络的数据，输入神经网络的数据是大小相同的张量，前面我们初步得到的训练数据只是把每个评论根据单词以及由单词字典生成了一个数字列表，这列表的长度都不相同，因此无法直接输入神经网络。这种情况下，要对数据做处理：一种是填充列表，使其长度相等，再将列表转化成形状为（samples，max_length）的整数张量，然后在模型的第一层用处理整数张量的层，也就是Embedding层。\n",
        "第二种办法是进行multi-hot编码，将其转化成0和1组成的向量。举个例子，将序列[8,5]转化成1000维向量，只有索引8和索引5对应的数字是1，其他的位置处对应的数字是0，然后模型的第一层可以用Dense层，它能够处理浮点数的向量数据\n",
        "\n"
      ],
      "metadata": {
        "id": "3OvFq1QSQX3B"
      }
    },
    {
      "cell_type": "code",
      "source": [
        "#代码清单 4-3 用multi-bot 对整数序列进行编码\n",
        "import numpy as np\n",
        "def vectorize_sequences(sequences, dimension=10000):\n",
        "  results = np.zeros((len(sequences), dimension))\n",
        "  for i, sequence in enumerate(sequences):\n",
        "    for j in sequence:\n",
        "      results[i, j] = 1\n",
        "  return results\n",
        "x_train = vectorize_sequences(train_data)\n",
        "x_test = vectorize_sequences(test_data)\n",
        "\n",
        "print(train_data[0])\n",
        "# 虽然在上面的一个文本序列中有很多重复的数字，但是在矩阵当中的同一位置被多次覆盖为1，这个是可以的，矩阵中同一位置多次设定1和出现一次都是一样的"
      ],
      "metadata": {
        "colab": {
          "base_uri": "https://localhost:8080/"
        },
        "id": "ikamXLjEP-qJ",
        "outputId": "35e93106-ef8a-4210-cf9a-d5dbf64f0ddd"
      },
      "execution_count": 6,
      "outputs": [
        {
          "output_type": "stream",
          "name": "stdout",
          "text": [
            "[1, 2, 2, 8, 43, 10, 447, 5, 25, 207, 270, 5, 3095, 111, 16, 369, 186, 90, 67, 7, 89, 5, 19, 102, 6, 19, 124, 15, 90, 67, 84, 22, 482, 26, 7, 48, 4, 49, 8, 864, 39, 209, 154, 6, 151, 6, 83, 11, 15, 22, 155, 11, 15, 7, 48, 9, 4579, 1005, 504, 6, 258, 6, 272, 11, 15, 22, 134, 44, 11, 15, 16, 8, 197, 1245, 90, 67, 52, 29, 209, 30, 32, 132, 6, 109, 15, 17, 12]\n"
          ]
        }
      ]
    },
    {
      "cell_type": "code",
      "source": [
        "y_train = np.array(train_labels).astype(\"float32\")\n",
        "y_test = np.array(test_lables).astype(\"float32\")"
      ],
      "metadata": {
        "id": "jAjOLIWS12MJ"
      },
      "execution_count": 6,
      "outputs": []
    },
    {
      "cell_type": "markdown",
      "source": [
        "构建模型，对于二元分类来说， 输入的是序列，标签是1或者0，这种是一类非常简单的分类，采用带有relu激活函数的Dense层就可以简单的堆叠连接。对于Dense层来说，结构需要注意以下几点：\n",
        "1. 神经网络有多少层\n",
        "2. 每层有多少个单元\n",
        "在本例中，我们设定2层，每层16个神经单元，第三层给出一个标量预测值，代表的是当前评论的情感分析\n",
        "              输入文本（向量化文本）\n",
        "              Dense（units=16）\n",
        "              Dense（units=16）\n",
        "              Dense（units=1）\n",
        "                  输出概率值"
      ],
      "metadata": {
        "id": "Yqs88tKv2rtG"
      }
    },
    {
      "cell_type": "code",
      "source": [
        "# 代码清单 4-4 模型定义\n",
        "from tensorflow import keras\n",
        "from tensorflow.keras import layers\n",
        "\n",
        "model = keras.Sequential([\n",
        "    layers.Dense(16, activation='relu'),\n",
        "    layers.Dense(16, activation='relu'),\n",
        "    layers.Dense(1, activation='sigmoid')\n",
        "])\n"
      ],
      "metadata": {
        "id": "54QThNV74AjP"
      },
      "execution_count": 8,
      "outputs": []
    },
    {
      "cell_type": "code",
      "source": [
        "# 代码清单 4-5 模型编译\n",
        "model.compile(optimizer='rmsprop',\n",
        "              loss='binary_crossentropy',\n",
        "              metrics=['accuracy'])\n"
      ],
      "metadata": {
        "id": "65h2U0CD5MHV"
      },
      "execution_count": 14,
      "outputs": []
    },
    {
      "cell_type": "code",
      "source": [
        "# 代码清单 4-6 留出验证集\n",
        "x_val = x_train[:10000]\n",
        "partial_x_train = x_train[10000:]\n",
        "y_val = y_train[:10000]\n",
        "partial_y_train = y_train[10000:]"
      ],
      "metadata": {
        "id": "eXm1R_Ha5g0c"
      },
      "execution_count": 15,
      "outputs": []
    },
    {
      "cell_type": "code",
      "source": [
        "#代码清单 4-7 训练模型\n",
        "history = model.fit(partial_x_train,\n",
        "                    partial_y_train,\n",
        "                    epochs=20,\n",
        "                    batch_size=512,\n",
        "                    validation_data=(x_val, y_val))\n"
      ],
      "metadata": {
        "colab": {
          "base_uri": "https://localhost:8080/"
        },
        "id": "arYmN3WI61s0",
        "outputId": "5579de47-2ab6-433e-c439-faa489b12f6c"
      },
      "execution_count": 18,
      "outputs": [
        {
          "output_type": "stream",
          "name": "stdout",
          "text": [
            "Epoch 1/20\n",
            "30/30 [==============================] - 3s 84ms/step - loss: 0.0096 - accuracy: 0.9996 - val_loss: 0.7327 - val_accuracy: 0.8561\n",
            "Epoch 2/20\n",
            "30/30 [==============================] - 1s 36ms/step - loss: 0.0095 - accuracy: 0.9993 - val_loss: 0.6178 - val_accuracy: 0.8641\n",
            "Epoch 3/20\n",
            "30/30 [==============================] - 2s 55ms/step - loss: 0.0116 - accuracy: 0.9979 - val_loss: 0.6457 - val_accuracy: 0.8691\n",
            "Epoch 4/20\n",
            "30/30 [==============================] - 1s 39ms/step - loss: 0.0052 - accuracy: 0.9999 - val_loss: 0.6506 - val_accuracy: 0.8707\n",
            "Epoch 5/20\n",
            "30/30 [==============================] - 1s 48ms/step - loss: 0.0079 - accuracy: 0.9988 - val_loss: 0.6711 - val_accuracy: 0.8696\n",
            "Epoch 6/20\n",
            "30/30 [==============================] - 1s 35ms/step - loss: 0.0040 - accuracy: 0.9999 - val_loss: 0.7073 - val_accuracy: 0.8643\n",
            "Epoch 7/20\n",
            "30/30 [==============================] - 1s 32ms/step - loss: 0.0078 - accuracy: 0.9983 - val_loss: 0.7114 - val_accuracy: 0.8690\n",
            "Epoch 8/20\n",
            "30/30 [==============================] - 1s 34ms/step - loss: 0.0028 - accuracy: 0.9999 - val_loss: 0.7353 - val_accuracy: 0.8706\n",
            "Epoch 9/20\n",
            "30/30 [==============================] - 1s 34ms/step - loss: 0.0070 - accuracy: 0.9983 - val_loss: 0.7484 - val_accuracy: 0.8700\n",
            "Epoch 10/20\n",
            "30/30 [==============================] - 1s 34ms/step - loss: 0.0021 - accuracy: 0.9999 - val_loss: 0.7626 - val_accuracy: 0.8685\n",
            "Epoch 11/20\n",
            "30/30 [==============================] - 1s 47ms/step - loss: 0.0047 - accuracy: 0.9992 - val_loss: 0.7796 - val_accuracy: 0.8699\n",
            "Epoch 12/20\n",
            "30/30 [==============================] - 1s 48ms/step - loss: 0.0016 - accuracy: 1.0000 - val_loss: 0.7977 - val_accuracy: 0.8693\n",
            "Epoch 13/20\n",
            "30/30 [==============================] - 1s 50ms/step - loss: 0.0054 - accuracy: 0.9986 - val_loss: 0.8162 - val_accuracy: 0.8692\n",
            "Epoch 14/20\n",
            "30/30 [==============================] - 1s 48ms/step - loss: 0.0013 - accuracy: 1.0000 - val_loss: 0.8285 - val_accuracy: 0.8691\n",
            "Epoch 15/20\n",
            "30/30 [==============================] - 1s 35ms/step - loss: 0.0015 - accuracy: 0.9999 - val_loss: 0.9071 - val_accuracy: 0.8646\n",
            "Epoch 16/20\n",
            "30/30 [==============================] - 1s 32ms/step - loss: 0.0012 - accuracy: 1.0000 - val_loss: 0.8741 - val_accuracy: 0.8687\n",
            "Epoch 17/20\n",
            "30/30 [==============================] - 1s 34ms/step - loss: 0.0014 - accuracy: 1.0000 - val_loss: 0.8968 - val_accuracy: 0.8680\n",
            "Epoch 18/20\n",
            "30/30 [==============================] - 1s 32ms/step - loss: 7.0091e-04 - accuracy: 1.0000 - val_loss: 0.9273 - val_accuracy: 0.8675\n",
            "Epoch 19/20\n",
            "30/30 [==============================] - 1s 32ms/step - loss: 0.0015 - accuracy: 0.9999 - val_loss: 0.9439 - val_accuracy: 0.8682\n",
            "Epoch 20/20\n",
            "30/30 [==============================] - 1s 32ms/step - loss: 5.2848e-04 - accuracy: 1.0000 - val_loss: 0.9585 - val_accuracy: 0.8691\n"
          ]
        }
      ]
    },
    {
      "cell_type": "code",
      "source": [
        "history_dict = history.history\n",
        "print(history_dict)"
      ],
      "metadata": {
        "id": "jUsyR3Hx-gAq"
      },
      "execution_count": null,
      "outputs": []
    },
    {
      "cell_type": "code",
      "source": [
        "history_dict.keys()"
      ],
      "metadata": {
        "colab": {
          "base_uri": "https://localhost:8080/"
        },
        "id": "7RORDkyd-ycR",
        "outputId": "abfb193b-8b76-4ca8-e2df-d21346706ad2"
      },
      "execution_count": 22,
      "outputs": [
        {
          "output_type": "execute_result",
          "data": {
            "text/plain": [
              "dict_keys(['loss', 'accuracy', 'val_loss', 'val_accuracy'])"
            ]
          },
          "metadata": {},
          "execution_count": 22
        }
      ]
    },
    {
      "cell_type": "code",
      "source": [
        "# 4-8 绘制训练损失和验证损失\n",
        "import matplotlib.pyplot as plt\n",
        "history_dict = history.history\n",
        "loss_values = history_dict['loss']\n",
        "val_loss_values = history_dict['val_loss']\n",
        "epochs = range(1, len(loss_values)+1)\n",
        "plt.plot(epochs, loss_values,'bo', label='Training loss')\n",
        "plt.plot(epochs,val_loss_values,'b', label='Validation loss')\n",
        "plt.title('Traning and Validation loss')\n",
        "plt.xlabel('Epochs')\n",
        "plt.ylabel('Loss')\n",
        "plt.legend()\n",
        "plt.show()"
      ],
      "metadata": {
        "colab": {
          "base_uri": "https://localhost:8080/",
          "height": 472
        },
        "id": "ntP2ssmq-74l",
        "outputId": "64f08151-bc41-478f-97b7-6a399a7194b2"
      },
      "execution_count": 23,
      "outputs": [
        {
          "output_type": "display_data",
          "data": {
            "text/plain": [
              "<Figure size 640x480 with 1 Axes>"
            ],
            "image/png": "[encoded data removed]"
          },
          "metadata": {}
        }
      ]
    },
    {
      "cell_type": "code",
      "source": [
        "# 4-9 绘制训练精度和验证精度\n",
        "# plt.clf() 清空图像\n",
        "import matplotlib.pyplot as plt\n",
        "history_dict = history.history\n",
        "acc  = history_dict['accuracy']\n",
        "val_acc = history_dict['val_accuracy']\n",
        "epochs = range(1, len(loss_values)+1)\n",
        "plt.plot(epochs, acc,'bo', label='Training accuracy')\n",
        "plt.plot(epochs,val_acc,'b', label='Validation accuracy')\n",
        "plt.title('Traning and Validation accuracy')\n",
        "plt.xlabel('Epochs')\n",
        "plt.ylabel('Accuracy')\n",
        "plt.legend()\n",
        "plt.show()"
      ],
      "metadata": {
        "colab": {
          "base_uri": "https://localhost:8080/",
          "height": 472
        },
        "id": "G8T00rQsAnKg",
        "outputId": "dca481b3-4ddc-47a2-f397-f34a8cce3a8d"
      },
      "execution_count": 24,
      "outputs": [
        {
          "output_type": "display_data",
          "data": {
            "text/plain": [
              "<Figure size 640x480 with 1 Axes>"
            ],
            "image/png": "[encoded data removed]"
          },
          "metadata": {}
        }
      ]
    },
    {
      "cell_type": "code",
      "source": [
        "#代码清单 4-10 从头开始训练一个模型\n",
        "model = keras.Sequential([\n",
        "    layers.Dense(16, activation='relu'),\n",
        "    layers.Dense(16, activation='relu'),\n",
        "    layers.Dense(1, activation='sigmoid')\n",
        "])\n",
        "model.compile(optimizer='rmsprop',\n",
        "              loss='binary_crossentropy',\n",
        "              metrics=['accuracy'])\n",
        "history = model.fit(x_train, y_train, epochs=4, batch_size=512)\n",
        "results = model.evaluate(x_test, y_test)\n",
        "print(results) # 输出测试损失和测序精度\n",
        "\n"
      ],
      "metadata": {
        "colab": {
          "base_uri": "https://localhost:8080/"
        },
        "id": "6sXCFNvgB_mb",
        "outputId": "d3bcf83c-1192-49dd-e8b7-a344751e0991"
      },
      "execution_count": 9,
      "outputs": [
        {
          "output_type": "stream",
          "name": "stdout",
          "text": [
            "Epoch 1/4\n",
            "49/49 [==============================] - 2s 26ms/step - loss: 0.4520 - accuracy: 0.8152\n",
            "Epoch 2/4\n",
            "49/49 [==============================] - 1s 25ms/step - loss: 0.2652 - accuracy: 0.9038\n",
            "Epoch 3/4\n",
            "49/49 [==============================] - 1s 24ms/step - loss: 0.2100 - accuracy: 0.9232\n",
            "Epoch 4/4\n",
            "49/49 [==============================] - 1s 24ms/step - loss: 0.1771 - accuracy: 0.9358\n",
            "782/782 [==============================] - 2s 2ms/step - loss: 0.3191 - accuracy: 0.8727\n",
            "[0.3190682530403137, 0.8726800084114075]\n"
          ]
        }
      ]
    },
    {
      "cell_type": "code",
      "source": [
        "model.predict(x_test)"
      ],
      "metadata": {
        "colab": {
          "base_uri": "https://localhost:8080/"
        },
        "id": "2WLGHSK_C9Cb",
        "outputId": "ce617908-3776-4527-c004-7a457cba1531"
      },
      "execution_count": 10,
      "outputs": [
        {
          "output_type": "stream",
          "name": "stdout",
          "text": [
            "782/782 [==============================] - 2s 2ms/step\n"
          ]
        },
        {
          "output_type": "execute_result",
          "data": {
            "text/plain": [
              "array([[0.12452588],\n",
              "       [0.9990468 ],\n",
              "       [0.33084652],\n",
              "       ...,\n",
              "       [0.07448667],\n",
              "       [0.02853984],\n",
              "       [0.48240352]], dtype=float32)"
            ]
          },
          "metadata": {},
          "execution_count": 10
        }
      ]
    },
    {
      "cell_type": "markdown",
      "source": [
        "1. 通常要对原始数据进行大量的预处理，使得它能够满足输入神经网络，一般最后生成张量\n",
        "2. 带有relu激活函数的Dense堆叠层可以解决很多问题，包括情感分析\n",
        "3. 对于二元分类模型，最后一层输出的是一个0到1 的标量，表示的是概率值\n",
        "4. 对于二元分类模型，最后一层的激活函数是sigmoid，应该是使用binary_crossentropy 损失函数\n",
        "5. 优化器一般选择rmsprop 即可\n",
        "6. 神经网络在训练数据上表型的越来越好，不代表在未见过的数据上表现的很好，通过这种在训练数据上表型的好，但是未见过的数据上表现的不好的现象叫做过度拟合，所以一般有用监控数据来进行训练集之外的监控"
      ],
      "metadata": {
        "id": "ns-hsTOGD2vk"
      }
    },
    {
      "cell_type": "markdown",
      "source": [
        "**4.2 新闻分类：多分类问题示例**\n",
        "多分类问题是有多个分类，我们的目的是将测试数据根据我们训练数据的目标进行分类，这些分类通常是多个，且每个分类是互斥的，也就是是说一个样本只能对应一个分类，这种一般叫做多标签，多分类。比如路透社的示例数据，每个新闻对应46个分类中的一个。总共有46个分类。"
      ],
      "metadata": {
        "id": "qnKAdlODYLoL"
      }
    },
    {
      "cell_type": "code",
      "source": [
        "# 代码清单 4-11， 加载路透社数据集\n",
        "from tensorflow.keras.datasets import reuters\n",
        "(train_data, train_label),(test_data, test_label) = reuters.load_data(num_words=10000)\n",
        "print(len(train_data))\n",
        "print(len(test_data))"
      ],
      "metadata": {
        "colab": {
          "base_uri": "https://localhost:8080/"
        },
        "id": "VME2CdvLQxL2",
        "outputId": "5a0a2fae-be94-4d25-d897-bb4acb6cdb5a"
      },
      "execution_count": 1,
      "outputs": [
        {
          "output_type": "stream",
          "name": "stdout",
          "text": [
            "Downloading data from https://storage.googleapis.com/tensorflow/tf-keras-datasets/reuters.npz\n",
            "2110848/2110848 [==============================] - 0s 0us/step\n",
            "8982\n",
            "2246\n"
          ]
        }
      ]
    },
    {
      "cell_type": "code",
      "source": [
        "print(train_data[10])"
      ],
      "metadata": {
        "colab": {
          "base_uri": "https://localhost:8080/"
        },
        "id": "oxyQsWhwV2oJ",
        "outputId": "1567b2ed-8d96-48f7-b725-78d660e2ba4c"
      },
      "execution_count": 2,
      "outputs": [
        {
          "output_type": "stream",
          "name": "stdout",
          "text": [
            "[1, 245, 273, 207, 156, 53, 74, 160, 26, 14, 46, 296, 26, 39, 74, 2979, 3554, 14, 46, 4689, 4329, 86, 61, 3499, 4795, 14, 61, 451, 4329, 17, 12]\n"
          ]
        }
      ]
    },
    {
      "cell_type": "code",
      "source": [
        "# 代码清单 4-12将新闻解码为文本\n",
        "words_index = reuters.get_word_index()\n",
        "reverse_word_index = dict(\n",
        "    [(value, key) for (key, value) in words_index.items()]\n",
        ")\n",
        "decoded_newswire = \" \".join(\n",
        "   [reverse_word_index.get(i - 3, '?') for i in train_data[0]]\n",
        ")\n",
        "print(decoded_newswire)"
      ],
      "metadata": {
        "colab": {
          "base_uri": "https://localhost:8080/"
        },
        "id": "a7JHmW82V8F6",
        "outputId": "dc94739d-c2a9-44c0-fd45-1687d8d3df4b"
      },
      "execution_count": 3,
      "outputs": [
        {
          "output_type": "stream",
          "name": "stdout",
          "text": [
            "Downloading data from https://storage.googleapis.com/tensorflow/tf-keras-datasets/reuters_word_index.json\n",
            "550378/550378 [==============================] - 0s 0us/step\n",
            "? ? ? said as a result of its december acquisition of space co it expects earnings per share in 1987 of 1 15 to 1 30 dlrs per share up from 70 cts in 1986 the company said pretax net should rise to nine to 10 mln dlrs from six mln dlrs in 1986 and rental operation revenues to 19 to 22 mln dlrs from 12 5 mln dlrs it said cash flow per share this year should be 2 50 to three dlrs reuter 3\n"
          ]
        }
      ]
    },
    {
      "cell_type": "code",
      "source": [
        "print(train_label[10])"
      ],
      "metadata": {
        "colab": {
          "base_uri": "https://localhost:8080/"
        },
        "id": "ajdLS6QrWzMR",
        "outputId": "644de59f-ef1e-4d67-d2f2-43bac341700a"
      },
      "execution_count": 4,
      "outputs": [
        {
          "output_type": "stream",
          "name": "stdout",
          "text": [
            "3\n"
          ]
        }
      ]
    },
    {
      "cell_type": "code",
      "source": [
        "# 4.2.2 准备数据\n",
        "# 代码清单 4- 13 编码输入数据\n",
        "x_train = vectorize_sequences(train_data)\n",
        "x_test = vectorize_sequences(test_data)\n"
      ],
      "metadata": {
        "id": "mjwvhX5ZW2xr"
      },
      "execution_count": 39,
      "outputs": []
    },
    {
      "cell_type": "code",
      "source": [
        "print(x_train.shape)\n",
        "print(y_train.shape)"
      ],
      "metadata": {
        "colab": {
          "base_uri": "https://localhost:8080/"
        },
        "id": "zfJupJFcW3Br",
        "outputId": "5986e36f-6cbd-4df2-9238-83fa2a56946c"
      },
      "execution_count": 44,
      "outputs": [
        {
          "output_type": "stream",
          "name": "stdout",
          "text": [
            "(8982, 10000)\n",
            "(8982, 46)\n"
          ]
        }
      ]
    },
    {
      "cell_type": "markdown",
      "source": [
        "标签向量化， 标签就是对应的目标值，在二元分类问题中，一个分类是0，一个是1，整个标签数组是有0和1构成的向量，我们用numpy.asarray(train_label).astype('float32')进行转换就可以了。对于多分类的标签，通常转化为一个整数张量，或者用one-bot编码，就是一个0，1编码，长度是分类的个数，比如路透社的分类是46，每个标签是长度为46的向量，在特定的分类上编码为1，其他的分类上为0。所有样本的标签存储为一个样本数目为行，分类数目为列的矩阵。"
      ],
      "metadata": {
        "id": "JiROzHFPXmS3"
      }
    },
    {
      "cell_type": "code",
      "source": [
        "# 代码清单 4-14 编码标签\n",
        "def to_one_bot(labels, demension=46):\n",
        "  results = np.zeros((len(labels),demension))\n",
        "  for i, label in enumerate(labels):\n",
        "    results[i,label]=1\n",
        "  return results\n",
        "\n",
        "y_train = to_one_bot(train_label)\n",
        "y_test = to_one_bot(test_label)"
      ],
      "metadata": {
        "id": "XNJq6sVnW3IS"
      },
      "execution_count": 45,
      "outputs": []
    },
    {
      "cell_type": "code",
      "source": [
        "y_train[10]"
      ],
      "metadata": {
        "colab": {
          "base_uri": "https://localhost:8080/"
        },
        "id": "EIX8_25MW3QJ",
        "outputId": "ca8a2559-f1ea-4ee0-db4a-4a98e6630359"
      },
      "execution_count": 14,
      "outputs": [
        {
          "output_type": "execute_result",
          "data": {
            "text/plain": [
              "array([0., 0., 0., 1., 0., 0., 0., 0., 0., 0., 0., 0., 0., 0., 0., 0., 0.,\n",
              "       0., 0., 0., 0., 0., 0., 0., 0., 0., 0., 0., 0., 0., 0., 0., 0., 0.,\n",
              "       0., 0., 0., 0., 0., 0., 0., 0., 0., 0., 0., 0.])"
            ]
          },
          "metadata": {},
          "execution_count": 14
        }
      ]
    },
    {
      "cell_type": "code",
      "source": [
        "train_label[9]"
      ],
      "metadata": {
        "colab": {
          "base_uri": "https://localhost:8080/"
        },
        "id": "TlgGboJNW3V_",
        "outputId": "4b0c9331-0c7f-41c3-b9a6-fb70c4a6ff3b"
      },
      "execution_count": 18,
      "outputs": [
        {
          "output_type": "execute_result",
          "data": {
            "text/plain": [
              "16"
            ]
          },
          "metadata": {},
          "execution_count": 18
        }
      ]
    },
    {
      "cell_type": "code",
      "source": [
        "train_label[0:11]"
      ],
      "metadata": {
        "colab": {
          "base_uri": "https://localhost:8080/"
        },
        "id": "v8PBPaN1W3el",
        "outputId": "ae28fbf3-c05e-424e-f138-7ca98fd6e1ec"
      },
      "execution_count": 17,
      "outputs": [
        {
          "output_type": "execute_result",
          "data": {
            "text/plain": [
              "array([ 3,  4,  3,  4,  4,  4,  4,  3,  3, 16,  3])"
            ]
          },
          "metadata": {},
          "execution_count": 17
        }
      ]
    },
    {
      "cell_type": "code",
      "source": [
        "# keras 又一个内置的方法可以实现这边编码\n",
        "from tensorflow.keras.utils import to_categorical\n",
        "y_train = to_categorical(train_label)\n",
        "y_test = to_categorical(test_label)\n"
      ],
      "metadata": {
        "id": "ymoKOKDrW3l4"
      },
      "execution_count": 46,
      "outputs": []
    },
    {
      "cell_type": "code",
      "source": [
        "print(y_train.shape)"
      ],
      "metadata": {
        "colab": {
          "base_uri": "https://localhost:8080/"
        },
        "id": "34Hqh8bEW3xq",
        "outputId": "7c189055-4f05-40f4-f248-608587664c07"
      },
      "execution_count": 48,
      "outputs": [
        {
          "output_type": "stream",
          "name": "stdout",
          "text": [
            "(8982, 46)\n"
          ]
        }
      ]
    },
    {
      "cell_type": "code",
      "source": [
        "y_train[9]"
      ],
      "metadata": {
        "colab": {
          "base_uri": "https://localhost:8080/"
        },
        "id": "eQyflN-tW36B",
        "outputId": "1025765a-a517-460e-f1aa-2f76247c2565"
      },
      "execution_count": 25,
      "outputs": [
        {
          "output_type": "execute_result",
          "data": {
            "text/plain": [
              "array([0., 0., 0., 0., 0., 0., 0., 0., 0., 0., 0., 0., 0., 0., 0., 0., 1.,\n",
              "       0., 0., 0., 0., 0., 0., 0., 0., 0., 0., 0., 0., 0., 0., 0., 0., 0.,\n",
              "       0., 0., 0., 0., 0., 0., 0., 0., 0., 0., 0., 0.], dtype=float32)"
            ]
          },
          "metadata": {},
          "execution_count": 25
        }
      ]
    },
    {
      "cell_type": "code",
      "source": [
        "# 代码清单 模型定义\n",
        "from tensorflow import keras\n",
        "from tensorflow.keras import layers\n",
        "model = keras.Sequential([\n",
        "    layers.Dense(64, activation='relu'),\n",
        "    layers.Dense(64,activation='relu'),\n",
        "    layers.Dense(46, activation='softmax')\n",
        "])\n"
      ],
      "metadata": {
        "id": "ukaJwETXW4Js"
      },
      "execution_count": 28,
      "outputs": []
    },
    {
      "cell_type": "code",
      "source": [
        "# 代码清单 编译模型\n",
        "model.compile(\n",
        "    loss ='categorical_crossentropy',\n",
        "    optimizer='rmsprop',\n",
        "    metrics=['accuracy']\n",
        ")"
      ],
      "metadata": {
        "id": "EP81SFfuW4Sq"
      },
      "execution_count": 32,
      "outputs": []
    },
    {
      "cell_type": "code",
      "source": [
        "# 留出验证集\n",
        "x_val = x_train[:1000]\n",
        "partial_x_train = x_train[1000:]\n",
        "y_val= y_train[:1000]\n",
        "partial_y_train = y_train[1000:]\n"
      ],
      "metadata": {
        "id": "MYYg-TngW4jR"
      },
      "execution_count": 49,
      "outputs": []
    },
    {
      "cell_type": "code",
      "source": [
        "print(partial_x_train.shape)\n",
        "print(partial_y_train.shape)"
      ],
      "metadata": {
        "colab": {
          "base_uri": "https://localhost:8080/"
        },
        "id": "Ea60OZw1jMFG",
        "outputId": "72e7853e-d441-4e3f-db9f-fc71f0c96bd3"
      },
      "execution_count": 50,
      "outputs": [
        {
          "output_type": "stream",
          "name": "stdout",
          "text": [
            "(7982, 10000)\n",
            "(7982, 46)\n"
          ]
        }
      ]
    },
    {
      "cell_type": "code",
      "source": [
        "# 代码清单 4-18 训练模型\n",
        "history = model.fit(\n",
        "    partial_x_train,\n",
        "    partial_y_train,\n",
        "    epochs=20,\n",
        "    batch_size=512,\n",
        "    validation_data =(x_val, y_val)\n",
        ")\n"
      ],
      "metadata": {
        "colab": {
          "base_uri": "https://localhost:8080/"
        },
        "id": "tCpUZlamW4xd",
        "outputId": "6999cde0-2281-4f69-9d52-7dcfa31e75e3"
      },
      "execution_count": 51,
      "outputs": [
        {
          "output_type": "stream",
          "name": "stdout",
          "text": [
            "Epoch 1/20\n",
            "16/16 [==============================] - 2s 40ms/step - loss: 2.7644 - accuracy: 0.5168 - val_loss: 1.8751 - val_accuracy: 0.6080\n",
            "Epoch 2/20\n",
            "16/16 [==============================] - 0s 19ms/step - loss: 1.5719 - accuracy: 0.6805 - val_loss: 1.3789 - val_accuracy: 0.6940\n",
            "Epoch 3/20\n",
            "16/16 [==============================] - 0s 18ms/step - loss: 1.1983 - accuracy: 0.7412 - val_loss: 1.2030 - val_accuracy: 0.7390\n",
            "Epoch 4/20\n",
            "16/16 [==============================] - 0s 19ms/step - loss: 0.9867 - accuracy: 0.7879 - val_loss: 1.1010 - val_accuracy: 0.7500\n",
            "Epoch 5/20\n",
            "16/16 [==============================] - 0s 17ms/step - loss: 0.8305 - accuracy: 0.8220 - val_loss: 1.0296 - val_accuracy: 0.7690\n",
            "Epoch 6/20\n",
            "16/16 [==============================] - 0s 16ms/step - loss: 0.7020 - accuracy: 0.8495 - val_loss: 0.9679 - val_accuracy: 0.7970\n",
            "Epoch 7/20\n",
            "16/16 [==============================] - 0s 19ms/step - loss: 0.5940 - accuracy: 0.8731 - val_loss: 0.9230 - val_accuracy: 0.8060\n",
            "Epoch 8/20\n",
            "16/16 [==============================] - 0s 19ms/step - loss: 0.5027 - accuracy: 0.8916 - val_loss: 0.9100 - val_accuracy: 0.8080\n",
            "Epoch 9/20\n",
            "16/16 [==============================] - 0s 17ms/step - loss: 0.4297 - accuracy: 0.9088 - val_loss: 0.8818 - val_accuracy: 0.8180\n",
            "Epoch 10/20\n",
            "16/16 [==============================] - 0s 18ms/step - loss: 0.3678 - accuracy: 0.9206 - val_loss: 0.8746 - val_accuracy: 0.8160\n",
            "Epoch 11/20\n",
            "16/16 [==============================] - 0s 17ms/step - loss: 0.3178 - accuracy: 0.9292 - val_loss: 0.8750 - val_accuracy: 0.8070\n",
            "Epoch 12/20\n",
            "16/16 [==============================] - 0s 17ms/step - loss: 0.2755 - accuracy: 0.9394 - val_loss: 0.8717 - val_accuracy: 0.8180\n",
            "Epoch 13/20\n",
            "16/16 [==============================] - 0s 19ms/step - loss: 0.2440 - accuracy: 0.9440 - val_loss: 0.8836 - val_accuracy: 0.8130\n",
            "Epoch 14/20\n",
            "16/16 [==============================] - 0s 22ms/step - loss: 0.2188 - accuracy: 0.9483 - val_loss: 0.8832 - val_accuracy: 0.8120\n",
            "Epoch 15/20\n",
            "16/16 [==============================] - 0s 21ms/step - loss: 0.1958 - accuracy: 0.9495 - val_loss: 0.9499 - val_accuracy: 0.8080\n",
            "Epoch 16/20\n",
            "16/16 [==============================] - 0s 22ms/step - loss: 0.1814 - accuracy: 0.9516 - val_loss: 0.9456 - val_accuracy: 0.8030\n",
            "Epoch 17/20\n",
            "16/16 [==============================] - 0s 26ms/step - loss: 0.1665 - accuracy: 0.9515 - val_loss: 0.9135 - val_accuracy: 0.8080\n",
            "Epoch 18/20\n",
            "16/16 [==============================] - 0s 25ms/step - loss: 0.1563 - accuracy: 0.9559 - val_loss: 0.9116 - val_accuracy: 0.8060\n",
            "Epoch 19/20\n",
            "16/16 [==============================] - 0s 17ms/step - loss: 0.1429 - accuracy: 0.9577 - val_loss: 0.9075 - val_accuracy: 0.8160\n",
            "Epoch 20/20\n",
            "16/16 [==============================] - 0s 14ms/step - loss: 0.1407 - accuracy: 0.9567 - val_loss: 0.9284 - val_accuracy: 0.8070\n"
          ]
        }
      ]
    },
    {
      "cell_type": "code",
      "source": [
        "# 代码清单4-19 绘制训练损失和验证损失\n",
        "import matplotlib.pyplot as plt\n",
        "loss  = history.history['loss']\n",
        "val_loss  = history.history['val_loss']\n",
        "epochs = range(1, len(loss)+1)\n",
        "plt.plot(epochs, loss,'bo', label='Training loss')\n",
        "plt.plot(epochs,val_loss,'b', label='Validation loss')\n",
        "plt.title('Traning and Validation loss')\n",
        "plt.xlabel('Epochs')\n",
        "plt.ylabel('Loss')\n",
        "plt.legend()\n",
        "plt.show()"
      ],
      "metadata": {
        "colab": {
          "base_uri": "https://localhost:8080/",
          "height": 472
        },
        "id": "85igsMfWW4-h",
        "outputId": "c3c27eae-068e-4d90-96d6-e2a7e159ada9"
      },
      "execution_count": 52,
      "outputs": [
        {
          "output_type": "display_data",
          "data": {
            "text/plain": [
              "<Figure size 640x480 with 1 Axes>"
            ],
            "image/png": "[encoded data removed]"
          },
          "metadata": {}
        }
      ]
    },
    {
      "cell_type": "code",
      "source": [
        "# 代码清单4-20 绘制训练精度和验证精度\n",
        "import matplotlib.pyplot as plt\n",
        "acc  = history.history['accuracy']\n",
        "val_acc  = history.history['val_accuracy']\n",
        "epochs = range(1, len(loss)+1)\n",
        "plt.plot(epochs, acc,'bo', label='Training accuracy')\n",
        "plt.plot(epochs,val_acc,'b', label='Validation accuracy')\n",
        "plt.title('Traning and Validation accuracy')\n",
        "plt.xlabel('Epochs')\n",
        "plt.ylabel('Loss')\n",
        "plt.legend()\n",
        "plt.show()"
      ],
      "metadata": {
        "colab": {
          "base_uri": "https://localhost:8080/",
          "height": 472
        },
        "id": "RgFhaVsrW5eR",
        "outputId": "312c97ba-7af2-4f32-99e8-649a6c800f48"
      },
      "execution_count": 53,
      "outputs": [
        {
          "output_type": "display_data",
          "data": {
            "text/plain": [
              "<Figure size 640x480 with 1 Axes>"
            ],
            "image/png": "[encoded data removed]"
          },
          "metadata": {}
        }
      ]
    },
    {
      "cell_type": "markdown",
      "source": [
        "从上图可以看出，数据在训练9轮之后就可以过度拟合，因此我们重新构建一个模型，在9轮之后就停止训练"
      ],
      "metadata": {
        "id": "5XcrHYP8lZm2"
      }
    },
    {
      "cell_type": "code",
      "source": [
        "model = keras.Sequential([\n",
        "    layers.Dense(64, activation='relu'),\n",
        "    layers.Dense(64,activation='relu'),\n",
        "    layers.Dense(46, activation='softmax')\n",
        "])\n",
        "model.compile(\n",
        "    loss ='categorical_crossentropy',\n",
        "    optimizer='rmsprop',\n",
        "    metrics=['accuracy']\n",
        ")\n",
        "model.fit(\n",
        "    x_train,\n",
        "    y_train,\n",
        "    epochs=9,\n",
        "    batch_size=512,\n",
        ")\n",
        "results = model.evaluate(x_test, y_test)\n",
        "print(results)\n"
      ],
      "metadata": {
        "colab": {
          "base_uri": "https://localhost:8080/"
        },
        "id": "dReUCCX3W51F",
        "outputId": "5951437f-5140-4897-f27b-43b72ad45581"
      },
      "execution_count": 54,
      "outputs": [
        {
          "output_type": "stream",
          "name": "stdout",
          "text": [
            "Epoch 1/9\n",
            "18/18 [==============================] - 1s 19ms/step - loss: 2.6651 - accuracy: 0.5223\n",
            "Epoch 2/9\n",
            "18/18 [==============================] - 0s 18ms/step - loss: 1.4906 - accuracy: 0.6758\n",
            "Epoch 3/9\n",
            "18/18 [==============================] - 0s 17ms/step - loss: 1.1393 - accuracy: 0.7501\n",
            "Epoch 4/9\n",
            "18/18 [==============================] - 0s 13ms/step - loss: 0.9296 - accuracy: 0.7985\n",
            "Epoch 5/9\n",
            "18/18 [==============================] - 0s 13ms/step - loss: 0.7738 - accuracy: 0.8353\n",
            "Epoch 6/9\n",
            "18/18 [==============================] - 0s 13ms/step - loss: 0.6481 - accuracy: 0.8619\n",
            "Epoch 7/9\n",
            "18/18 [==============================] - 0s 14ms/step - loss: 0.5462 - accuracy: 0.8821\n",
            "Epoch 8/9\n",
            "18/18 [==============================] - 0s 13ms/step - loss: 0.4579 - accuracy: 0.9020\n",
            "Epoch 9/9\n",
            "18/18 [==============================] - 0s 12ms/step - loss: 0.3903 - accuracy: 0.9151\n",
            "71/71 [==============================] - 0s 3ms/step - loss: 0.9607 - accuracy: 0.7787\n",
            "[0.9606585502624512, 0.7787176966667175]\n"
          ]
        }
      ]
    },
    {
      "cell_type": "markdown",
      "source": [
        "上面我们是根据验证集确认模型在训练9轮之后就会出现过度拟合，因此我们可以根据验证集的损失和精确度来判读什么时候就会出现过度拟合，这样就来确定最终模型的精确度和损失了。"
      ],
      "metadata": {
        "id": "1TVOxMa8mRFS"
      }
    },
    {
      "cell_type": "code",
      "source": [
        "import copy\n",
        "test_labels_copy = copy.copy(test_labels)\n",
        "np.random.shuffle(test_labels_copy)\n",
        "hits_array = np.array(test_labels) == np.array(test_labels_copy)\n",
        "hits_array.mean()"
      ],
      "metadata": {
        "id": "PJACnGQSlZEc"
      },
      "execution_count": null,
      "outputs": []
    },
    {
      "cell_type": "code",
      "source": [
        "# 对新数据进行预测\n",
        "predictions = model.predict(x_test)\n",
        "predictions[0].shape\n",
        "np.sum(predictions[0])\n"
      ],
      "metadata": {
        "id": "Oe7jPcn0W6Dw"
      },
      "execution_count": null,
      "outputs": []
    },
    {
      "cell_type": "code",
      "source": [
        "# 处理标签的另一种方法，将其转化为整数张量\n",
        "y_train = np.array(train_labels)\n",
        "y_test = np.aaray(test_labels)\n",
        "model.compile(optimizer='rmsprop',\n",
        "              loss='sparse_categorical_crossentropy',\n",
        "              metrics=['accuracy'])\n",
        "# 对于整数向量，损失函数用系数分类交叉熵\n"
      ],
      "metadata": {
        "id": "VeEKGILtW6gH"
      },
      "execution_count": null,
      "outputs": []
    },
    {
      "cell_type": "code",
      "source": [
        "# 代码清单 4-22 具有信息瓶颈的模型\n",
        "model = keras.Sequential([\n",
        "    layers.Dense(64, activation='relu'),\n",
        "    layers.Dense(4, activation='relu'),     # 第二层层数很少，我们试图将大量信息压缩到维度较小的中间层。模型能够将大部分比呀信息塞进这个4维的表示中，但不是全部信息\n",
        "    layers.Dense(46, activation='softmax')\n",
        "])\n",
        "model.compile(optimizer='rmsprop',\n",
        "              loss='categorical_crossentropy',\n",
        "              metrics=['accuracy'])\n",
        "model.fit(partial_x_train,\n",
        "          partial_y_train,\n",
        "          epochs=20,\n",
        "          batch_size=128,\n",
        "          validation_data=(x_val, y_val))\n"
      ],
      "metadata": {
        "id": "LnyWCL9YW6xj"
      },
      "execution_count": null,
      "outputs": []
    },
    {
      "cell_type": "markdown",
      "source": [
        "小结：\n",
        "\n",
        "如果对N个类别的数据点进行分类，那么模型最后一层应该是大小为N的Dense层\n",
        "\n",
        "对于单标签，多分类问题，模型的最后一层应该使用softmax激活函数，这样可以输出一个N个输出类别的概率分布\n",
        "\n",
        "对于这种分类问题，损失函数几乎是分类交叉熵，它将模型输出的概率分布于目标的真实分布之间的距离最小化\n",
        "\n",
        "处理多分类问题的标签有两种方法\n",
        "\n",
        "（1） 通过分类编码one-bot编码，使用categorial_crossentropy 损失函数\n",
        "\n",
        "（2） 使用整张整数向量，使用sparse_categorial_crossentropy 损失函数\n",
        "\n",
        "如果需要将数据划分到多分类层，应该尽量避免使用太小的中间层，以免在模型中造成信息瓶颈\n"
      ],
      "metadata": {
        "id": "wrqGm_RRKI9O"
      }
    },
    {
      "cell_type": "markdown",
      "source": [
        "4.3 回归问题预测\n"
      ],
      "metadata": {
        "id": "wBsr1oelMmKq"
      }
    },
    {
      "cell_type": "code",
      "source": [
        "# 代码清单 4-23 加载波士顿房间数据集\n",
        "from tensorflow.keras.datasets import boston_housing\n",
        "(train_data, train_targets),(test_data, test_targets) = (boston_housing.load_data())"
      ],
      "metadata": {
        "id": "pY9gWNUSW6-F"
      },
      "execution_count": 15,
      "outputs": []
    },
    {
      "cell_type": "code",
      "source": [
        "\n",
        "print(train_targets.shape)\n",
        "print(test_targets.shape)\n"
      ],
      "metadata": {
        "colab": {
          "base_uri": "https://localhost:8080/"
        },
        "id": "H9F53-0QW7E2",
        "outputId": "193872a8-f1e3-4bd4-8981-0c5c4f66932a"
      },
      "execution_count": 23,
      "outputs": [
        {
          "output_type": "stream",
          "name": "stdout",
          "text": [
            "(404,)\n",
            "(102,)\n"
          ]
        }
      ]
    },
    {
      "cell_type": "code",
      "source": [
        "# 代码清单 4-24 数据标准化\n",
        "mean = train_data.mean(axis=0)\n",
        "train_data -= mean\n",
        "std = train_data.std(axis=0)\n",
        "train_data /= std\n",
        "test_data -= mean\n",
        "test_data /=std\n",
        "# 对测试数据的标准化处理也是按照训练数据的平均数和标准差进行操作的，不能对测试集数据本身做任何的数据操作"
      ],
      "metadata": {
        "id": "-DMr047APHBh"
      },
      "execution_count": 17,
      "outputs": []
    },
    {
      "cell_type": "code",
      "source": [
        "# 代码清单 4-25 模型构建\n",
        "from tensorflow import keras\n",
        "from tensorflow.keras import layers\n",
        "\n",
        "def build_model():\n",
        "  model = keras.Sequential([\n",
        "      layers.Dense(64, activation='relu'),\n",
        "      layers.Dense(64, activation='relu'),\n",
        "      layers.Dense(1)\n",
        "  ])\n",
        "  model.compile(\n",
        "      optimizer='rmsprop',\n",
        "      loss='mse',\n",
        "      metrics=['mae']\n",
        "  )\n",
        "  return model\n",
        "\n",
        "# loss mse损失函数，均方误差，mean squared error(MSE)\n",
        "# 监控指标 mae 平均绝对误差 mean absolute error （MAE）预测值与目标值之间的绝对值"
      ],
      "metadata": {
        "id": "gbo67Z70PHWd"
      },
      "execution_count": 20,
      "outputs": []
    },
    {
      "cell_type": "code",
      "source": [
        "# 使用K折交叉验证方法\n",
        "import numpy as np\n",
        "k = 4\n",
        "num_val_samples = len(train_data) // k\n",
        "num_epochs = 100\n",
        "all_scores = []\n",
        "for i in range(k):\n",
        "  print(f\"Processing fold #{i}\")\n",
        "  val_data = train_data[i * num_val_samples:(i+1) * num_val_samples]\n",
        "  val_targets = train_targets[i * num_val_samples:(i+1) * num_val_samples]\n",
        "  partial_train_data = np.concatenate(\n",
        "      [train_data[:i * num_val_samples],\n",
        "       train_data[(i+1) * num_val_samples:]],\n",
        "       axis=0)\n",
        "  partial_train_targets = np.concatenate(\n",
        "      [train_targets[:i * num_val_samples],\n",
        "      train_targets[(i+1) * num_val_samples:]],\n",
        "      axis=0)\n",
        "  model = build_model()\n",
        "  model.fit(partial_train_data,\n",
        "            partial_train_targets,\n",
        "            epochs=num_epochs,\n",
        "            batch_size=16,\n",
        "            verbose=0)\n",
        "  val_mse, val_mae = model.evaluate(val_data, val_targets, verbose=0)\n",
        "  all_scores.append(val_mae)\n",
        "\n",
        "print(all_scores)\n",
        "\n",
        ""
      ],
      "metadata": {
        "colab": {
          "base_uri": "https://localhost:8080/"
        },
        "id": "BHNw3czHPHkA",
        "outputId": "4b90226f-f96c-43be-cdc7-1cfc2f06349b"
      },
      "execution_count": 25,
      "outputs": [
        {
          "output_type": "stream",
          "name": "stdout",
          "text": [
            "Processing fold #0\n",
            "Processing fold #1\n",
            "Processing fold #2\n",
            "Processing fold #3\n",
            "[1.9820287227630615, 2.6515891551971436, 2.568222761154175, 2.4527571201324463]\n"
          ]
        }
      ]
    },
    {
      "cell_type": "code",
      "source": [
        "# 代码清单 4-27 保存每折的验证分数\n",
        "\n",
        "import numpy as np\n",
        "k = 4\n",
        "num_val_samples = len(train_data) // k\n",
        "num_epochs = 500\n",
        "all_mae_history = []\n",
        "for i in range(k):\n",
        "  print(f\"Processing fold #{i}\")\n",
        "  val_data = train_data[i * num_val_samples:(i+1) * num_val_samples]\n",
        "  val_targets = train_targets[i * num_val_samples:(i+1) * num_val_samples]\n",
        "  partial_train_data = np.concatenate(\n",
        "      [train_data[:i * num_val_samples],\n",
        "       train_data[(i+1) * num_val_samples:]],\n",
        "       axis=0)\n",
        "  partial_train_targets = np.concatenate([\n",
        "      train_targets[:i * num_val_samples],\n",
        "      train_targets[(i+1) * num_val_samples:]],\n",
        "      axis=0)\n",
        "  model = build_model()\n",
        "  history = model.fit(partial_train_data,\n",
        "            partial_train_targets,\n",
        "            epochs=num_epochs,\n",
        "            batch_size=16,\n",
        "            verbose=0,\n",
        "            validation_data=(val_data, val_targets))\n",
        "\n",
        "  mae_history = history.history['mae']\n",
        "  all_mae_history.append(mae_history)"
      ],
      "metadata": {
        "colab": {
          "base_uri": "https://localhost:8080/"
        },
        "id": "BXAqfRnNPHti",
        "outputId": "6cf781e4-4195-4a97-8fed-5aef96220195"
      },
      "execution_count": 26,
      "outputs": [
        {
          "output_type": "stream",
          "name": "stdout",
          "text": [
            "Processing fold #0\n",
            "Processing fold #1\n",
            "Processing fold #2\n",
            "Processing fold #3\n"
          ]
        }
      ]
    },
    {
      "cell_type": "code",
      "source": [
        "len(all_mae_history)"
      ],
      "metadata": {
        "colab": {
          "base_uri": "https://localhost:8080/"
        },
        "id": "oalM_ECzfeFi",
        "outputId": "22b3029a-10e9-43a4-a5ae-5b01b40b3dc4"
      },
      "execution_count": 29,
      "outputs": [
        {
          "output_type": "execute_result",
          "data": {
            "text/plain": [
              "4"
            ]
          },
          "metadata": {},
          "execution_count": 29
        }
      ]
    },
    {
      "cell_type": "code",
      "source": [
        "# 代码清单 4-28 计算每轮的K折验证分数平均值\n",
        "average_mae_history = [\n",
        "    np.mean([x[i] for x in all_mae_history]) for i in range(num_epochs)]\n",
        "print(average_mae_history)"
      ],
      "metadata": {
        "colab": {
          "base_uri": "https://localhost:8080/"
        },
        "id": "HFxT5YHBPH26",
        "outputId": "ef7c09e7-1c22-43a2-822c-54c71e9c3a99"
      },
      "execution_count": 30,
      "outputs": [
        {
          "output_type": "stream",
          "name": "stdout",
          "text": [
            "[20.653293132781982, 17.195829391479492, 13.082198858261108, 8.894016027450562, 6.0074464082717896, 4.7660253047943115, 4.086762249469757, 3.634941875934601, 3.381275236606598, 3.182693898677826, 3.0250428915023804, 2.9378026127815247, 2.8036784529685974, 2.7295918464660645, 2.642891824245453, 2.56945937871933, 2.5140270590782166, 2.4705634713172913, 2.4076744318008423, 2.382467210292816, 2.377050995826721, 2.3298633694648743, 2.318909466266632, 2.252202868461609, 2.266533315181732, 2.230853497982025, 2.2173484563827515, 2.2061895728111267, 2.1834883093833923, 2.1555532217025757, 2.142568588256836, 2.1151188015937805, 2.1279359459877014, 2.0947128534317017, 2.101886570453644, 2.0739722847938538, 2.0400039851665497, 2.0465587079524994, 2.0386790931224823, 2.0383517742156982, 1.9963670074939728, 1.9947485029697418, 1.9769202768802643, 1.989524096250534, 1.9788185060024261, 1.9515251517295837, 1.950950562953949, 1.904654324054718, 1.9294926226139069, 1.913877546787262, 1.905143290758133, 1.9100544154644012, 1.8947941660881042, 1.8885780274868011, 1.871058702468872, 1.8572129011154175, 1.8600261807441711, 1.855656236410141, 1.85418501496315, 1.8313849568367004, 1.7919451594352722, 1.8065951764583588, 1.8023750483989716, 1.779872089624405, 1.7959050834178925, 1.8023975491523743, 1.7700587809085846, 1.7643757462501526, 1.7617462873458862, 1.7634006142616272, 1.7556735277175903, 1.7368321418762207, 1.7356628775596619, 1.7285336554050446, 1.7135936617851257, 1.7129416763782501, 1.7153757810592651, 1.6992767751216888, 1.676978975534439, 1.7072454392910004, 1.6904137134552002, 1.6571981608867645, 1.699295997619629, 1.6598252356052399, 1.6497771441936493, 1.6760806441307068, 1.6641161143779755, 1.6505585610866547, 1.66687673330307, 1.616359144449234, 1.627238780260086, 1.6068147122859955, 1.619686782360077, 1.590639889240265, 1.5935362875461578, 1.5981355905532837, 1.5766581892967224, 1.6013231873512268, 1.5728295743465424, 1.5651216506958008, 1.5672670006752014, 1.5567773580551147, 1.5621763467788696, 1.539371281862259, 1.5184674263000488, 1.5342790484428406, 1.5485741198062897, 1.5219954550266266, 1.5379070043563843, 1.5071109235286713, 1.524300217628479, 1.5043121576309204, 1.4882868528366089, 1.5146261155605316, 1.4735948145389557, 1.471278727054596, 1.4750693142414093, 1.4770178198814392, 1.4833407998085022, 1.4501560628414154, 1.4681786894798279, 1.4543415009975433, 1.4612302780151367, 1.4560605883598328, 1.4248324930667877, 1.4259587228298187, 1.4291342496871948, 1.4326151311397552, 1.4214913845062256, 1.4221532046794891, 1.4017674922943115, 1.406065046787262, 1.4004150032997131, 1.3789041638374329, 1.3844558894634247, 1.3980727195739746, 1.3975536823272705, 1.3613455295562744, 1.354656159877777, 1.3518837690353394, 1.3480118811130524, 1.352728396654129, 1.3624417781829834, 1.356301635503769, 1.3328054547309875, 1.3321866691112518, 1.3203259706497192, 1.33475860953331, 1.3254229128360748, 1.3202112317085266, 1.3218715190887451, 1.3105658292770386, 1.310985952615738, 1.284861981868744, 1.2922280132770538, 1.2780657410621643, 1.3133339881896973, 1.2715772688388824, 1.2744658291339874, 1.2796307504177094, 1.270397663116455, 1.2791025936603546, 1.2646426558494568, 1.2577384412288666, 1.2572934925556183, 1.2763715982437134, 1.232770025730133, 1.24954092502594, 1.2478386461734772, 1.2319228649139404, 1.2378931045532227, 1.230102151632309, 1.2374505996704102, 1.2387196123600006, 1.2050710916519165, 1.222050815820694, 1.211838722229004, 1.1965543031692505, 1.2151167392730713, 1.1986693441867828, 1.1910244822502136, 1.1874496936798096, 1.2218253314495087, 1.1909890174865723, 1.1911837756633759, 1.169324368238449, 1.1946184039115906, 1.1727501153945923, 1.1740246713161469, 1.1656372249126434, 1.1611221134662628, 1.149876356124878, 1.1643415987491608, 1.172629952430725, 1.1399812996387482, 1.1479181051254272, 1.1578998267650604, 1.1366980969905853, 1.1411204934120178, 1.1288605332374573, 1.1154791116714478, 1.1405263841152191, 1.1376790702342987, 1.1286402642726898, 1.1199716329574585, 1.0930413901805878, 1.1154645085334778, 1.1088354736566544, 1.1024719178676605, 1.1170453429222107, 1.1116679459810257, 1.09192755818367, 1.1097988486289978, 1.0821900814771652, 1.1023324131965637, 1.081606775522232, 1.0814549922943115, 1.087763786315918, 1.0766733586788177, 1.0741193294525146, 1.068794161081314, 1.0758342146873474, 1.068092942237854, 1.068605437874794, 1.0633326023817062, 1.0506080985069275, 1.0662493258714676, 1.051584005355835, 1.050787478685379, 1.0458835512399673, 1.0723964422941208, 1.0242897272109985, 1.046395629644394, 1.0461902916431427, 1.0437816232442856, 1.0336516201496124, 1.0355640947818756, 1.0089965611696243, 1.038319006562233, 1.0238103419542313, 1.0318840891122818, 1.012563332915306, 1.0114504545927048, 1.0019601881504059, 0.9922177791595459, 1.003720760345459, 1.0034775882959366, 0.9966696202754974, 0.9862659424543381, 1.0168325155973434, 0.9945874065160751, 0.9822027683258057, 0.9849014133214951, 0.9692207872867584, 0.978456124663353, 0.9907415509223938, 0.9677830040454865, 0.9656942486763, 0.9624865651130676, 0.991862028837204, 0.982909545302391, 0.9493247121572495, 0.9745918214321136, 0.9779034703969955, 0.9595916718244553, 0.9437686055898666, 0.9481586068868637, 0.9365830719470978, 0.9517879784107208, 0.9651190042495728, 0.9509530961513519, 0.9193405956029892, 0.9533537030220032, 0.9215875118970871, 0.9276143014431, 0.9308066219091415, 0.9360798299312592, 0.9271989166736603, 0.9199770838022232, 0.9257363677024841, 0.9387836158275604, 0.9101242572069168, 0.9328188002109528, 0.9249498695135117, 0.9123135358095169, 0.8969013094902039, 0.9153991937637329, 0.9166970998048782, 0.8897919356822968, 0.8862629681825638, 0.9014330953359604, 0.9054796695709229, 0.8842996656894684, 0.9015893489122391, 0.8874711394309998, 0.9040095806121826, 0.8894268125295639, 0.8915225863456726, 0.885173425078392, 0.8893691897392273, 0.8825083076953888, 0.8864201754331589, 0.8678698837757111, 0.8866341561079025, 0.8564818352460861, 0.8462490141391754, 0.8640386909246445, 0.8674409240484238, 0.8754834234714508, 0.8632654100656509, 0.8473574370145798, 0.8699147701263428, 0.867753878235817, 0.863936260342598, 0.8768949061632156, 0.8625641614198685, 0.8575101941823959, 0.8722744435071945, 0.8321559280157089, 0.8527313470840454, 0.8484513759613037, 0.8164274990558624, 0.860353022813797, 0.8348152041435242, 0.8496790677309036, 0.8281737267971039, 0.8383778184652328, 0.8536657691001892, 0.82630854845047, 0.8159180879592896, 0.8157987594604492, 0.8278848379850388, 0.8300153762102127, 0.800207182765007, 0.8203981965780258, 0.8145211189985275, 0.8185081481933594, 0.8175682723522186, 0.8070182949304581, 0.8067962676286697, 0.7919862270355225, 0.8199383616447449, 0.7858158349990845, 0.7776949852705002, 0.8088177442550659, 0.8267838656902313, 0.7938673794269562, 0.7988514751195908, 0.7978342324495316, 0.7605282068252563, 0.8014695197343826, 0.823279470205307, 0.756475567817688, 0.8061358034610748, 0.78433458507061, 0.7828178256750107, 0.7871909886598587, 0.7763503938913345, 0.7893176376819611, 0.7787047028541565, 0.7663728296756744, 0.7653905898332596, 0.7924763262271881, 0.7699383795261383, 0.7751289308071136, 0.7793859094381332, 0.7426717281341553, 0.7653828710317612, 0.7651431858539581, 0.7657661885023117, 0.7573805600404739, 0.7617829591035843, 0.7857678830623627, 0.7637261897325516, 0.755200207233429, 0.780978262424469, 0.7558156847953796, 0.7357374131679535, 0.7556714862585068, 0.7601115107536316, 0.7332799136638641, 0.7539578080177307, 0.7536000609397888, 0.7438825517892838, 0.7297763526439667, 0.7425070852041245, 0.7246106564998627, 0.7519911527633667, 0.7352205961942673, 0.7302081435918808, 0.7392236739397049, 0.7461068779230118, 0.7114844471216202, 0.7108138352632523, 0.7385018616914749, 0.7308187186717987, 0.7335232347249985, 0.7239696532487869, 0.7095431834459305, 0.7423429638147354, 0.7338387966156006, 0.7182024568319321, 0.6904856264591217, 0.7419306337833405, 0.7199963629245758, 0.7294663786888123, 0.7034589201211929, 0.6979082226753235, 0.7322717607021332, 0.6965624839067459, 0.7066468447446823, 0.7105998694896698, 0.6945226937532425, 0.7074755877256393, 0.7249095290899277, 0.6924380213022232, 0.7127944231033325, 0.6978686153888702, 0.7021804004907608, 0.7073351144790649, 0.6830705553293228, 0.6931893825531006, 0.7029477953910828, 0.6908193528652191, 0.6911283582448959, 0.6908898502588272, 0.6938610076904297, 0.7114441394805908, 0.70223169028759, 0.6575228273868561, 0.678971990942955, 0.6805339753627777, 0.6906413286924362, 0.6765724867582321, 0.6820779293775558, 0.6768019050359726, 0.6760151088237762, 0.6612370163202286, 0.6799671947956085, 0.6959781646728516, 0.6735935658216476, 0.6411452740430832, 0.6739321202039719, 0.6547398716211319, 0.6559606939554214, 0.6591344624757767, 0.6579848825931549, 0.6501229256391525, 0.6600831300020218, 0.6662063598632812, 0.6595737189054489, 0.6586859375238419, 0.6607968062162399, 0.6760643571615219, 0.6574946641921997, 0.6474535763263702, 0.6612129509449005, 0.6384914517402649, 0.6629608720541, 0.6635725200176239, 0.6531007885932922, 0.653429388999939, 0.648435041308403, 0.6569375246763229, 0.6783349364995956, 0.6290487498044968, 0.6592849493026733, 0.6501834988594055, 0.6521217823028564, 0.6297782510519028, 0.6468581855297089, 0.6231841742992401, 0.6530473679304123, 0.6369496732950211, 0.6397866606712341, 0.645680159330368, 0.6257824823260307, 0.6365327835083008, 0.6329220533370972, 0.6333169639110565, 0.6672388762235641, 0.6019837409257889, 0.6236448436975479, 0.6143597364425659, 0.6261343955993652, 0.627230316400528, 0.6265095248818398, 0.6161787509918213, 0.635524645447731, 0.5979620218276978, 0.6210028231143951, 0.6235806345939636, 0.6370128840208054, 0.6511238515377045, 0.6113248988986015, 0.6113184690475464, 0.6014177799224854, 0.6061160415410995, 0.6201492249965668, 0.6094899475574493]\n"
          ]
        }
      ]
    },
    {
      "cell_type": "code",
      "source": [
        "# 代码清单 4-29 绘制MAE曲线\n",
        "import matplotlib.pyplot as plt\n",
        "plt.plot(range(1, len(average_mae_history)+1), average_mae_history)\n",
        "plt.xlabel('Epochs')\n",
        "plt.ylabel('validation MAE')\n",
        "plt.show()\n"
      ],
      "metadata": {
        "colab": {
          "base_uri": "https://localhost:8080/",
          "height": 449
        },
        "id": "ml3ePq4ZPICK",
        "outputId": "51462853-1a9d-4d6d-8559-af279e03855f"
      },
      "execution_count": 32,
      "outputs": [
        {
          "output_type": "display_data",
          "data": {
            "text/plain": [
              "<Figure size 640x480 with 1 Axes>"
            ],
            "image/png": "[encoded data removed]"
          },
          "metadata": {}
        }
      ]
    },
    {
      "cell_type": "code",
      "source": [
        "# 绘制验证曲线， 剔除前10个数据点\n",
        "tractated_mae_history = average_mae_history[10:]\n",
        "plt.plot(range(1, len(tractated_mae_history)+1), tractated_mae_history)\n",
        "plt.xlabel('Epochs')\n",
        "plt.ylabel('validation MAE')\n",
        "plt.show()\n"
      ],
      "metadata": {
        "colab": {
          "base_uri": "https://localhost:8080/",
          "height": 449
        },
        "id": "cNdnV80ZPILA",
        "outputId": "a780b806-2345-49ce-9f34-995c94dc4195"
      },
      "execution_count": 34,
      "outputs": [
        {
          "output_type": "display_data",
          "data": {
            "text/plain": [
              "<Figure size 640x480 with 1 Axes>"
            ],
            "image/png": "[encoded data removed]"
          },
          "metadata": {}
        }
      ]
    },
    {
      "cell_type": "code",
      "source": [
        "# 最终代码\n",
        "model = build_model()\n",
        "model.fit(train_data, train_targets,\n",
        "          epochs=130, batch_size=16)\n"
      ],
      "metadata": {
        "id": "Qhz_UXESclio"
      },
      "execution_count": null,
      "outputs": []
    },
    {
      "cell_type": "code",
      "source": [
        "test_mse_score, test_mae_score = model.evaluate(test_data, test_targets)\n",
        "predictions = model.predict(test_data) # 对测试数据进行预测\n",
        "predictions[0] # 测试数据的第一个房子的价格"
      ],
      "metadata": {
        "colab": {
          "base_uri": "https://localhost:8080/"
        },
        "id": "VZ2veZBbgtE4",
        "outputId": "096791c3-de86-4459-b43f-6292c4968ce1"
      },
      "execution_count": 36,
      "outputs": [
        {
          "output_type": "stream",
          "name": "stdout",
          "text": [
            "4/4 [==============================] - 0s 3ms/step - loss: 11.8666 - mae: 2.2732\n",
            "4/4 [==============================] - 0s 3ms/step\n"
          ]
        },
        {
          "output_type": "execute_result",
          "data": {
            "text/plain": [
              "array([8.577125], dtype=float32)"
            ]
          },
          "metadata": {},
          "execution_count": 36
        }
      ]
    },
    {
      "cell_type": "markdown",
      "source": [
        "小结：\n",
        "\n",
        "输入数据进行数据处理，必须要注意的是对测试数据的处理是基于预测数据的，不能在原来的测试数据上做处理\n",
        "\n",
        "对于回归问题，应该需要注意是的是模型的最后一层只要一层，不需要激活函数\n",
        "\n",
        "模型的损失是mse 均方误差，模型的监控指标是mae 平均绝对误差\n",
        "\n",
        "要尽量使用K值交叉验证方法，尤其是数据较少的情况下，对测试数据进行进行交叉验证的情况下，可以对每个K进行多次的单独训练，然后看这些训练次数对于的K值的平均误差的平均值，进而看模型在进行多少轮训练的时候出现过度拟合现象。最后再根据过度拟合出现的轮数，确定一个最终的模型。这个时候就不需要验证集了。K值交叉验证的时候，每次选择一定的样本作为预测集，剩下的样本作为验证集。验证集只是计算评价指标的，不进行训练。\n",
        "K值交叉验证是针对数据较少的情况下进行的\n"
      ],
      "metadata": {
        "id": "V4yB5Yfdg5FV"
      }
    },
    {
      "cell_type": "code",
      "source": [],
      "metadata": {
        "id": "3OPH_ZIwirne"
      },
      "execution_count": null,
      "outputs": []
    }
  ]
}