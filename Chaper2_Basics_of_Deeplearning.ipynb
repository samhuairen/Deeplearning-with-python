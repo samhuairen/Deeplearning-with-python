{
 "cells": [
  {
   "cell_type": "code",
   "execution_count": 3,
   "id": "adb0e2af-ef9e-48c4-b742-90ca4bcd6323",
   "metadata": {},
   "outputs": [],
   "source": [
    "深度学习第二章；神经网络的数学基础"
   ]
  },
  {
   "cell_type": "code",
   "execution_count": 1,
   "id": "f2d4cf19-4b70-4d9b-8a9d-d88db0f1fcd0",
   "metadata": {},
   "outputs": [
    {
     "name": "stderr",
     "output_type": "stream",
     "text": [
      "2024-03-18 20:40:35.418920: I tensorflow/core/platform/cpu_feature_guard.cc:210] This TensorFlow binary is optimized to use available CPU instructions in performance-critical operations.\n",
      "To enable the following instructions: AVX2 FMA, in other operations, rebuild TensorFlow with the appropriate compiler flags.\n"
     ]
    }
   ],
   "source": [
    "import tensorflow as tf "
   ]
  },
  {
   "cell_type": "code",
   "execution_count": 2,
   "id": "a318d7d0-86ef-49da-a11c-5ff3fff6e84e",
   "metadata": {},
   "outputs": [
    {
     "data": {
      "text/plain": [
       "'2.16.1'"
      ]
     },
     "execution_count": 2,
     "metadata": {},
     "output_type": "execute_result"
    }
   ],
   "source": [
    "tf.__version__"
   ]
  },
  {
   "cell_type": "code",
   "execution_count": null,
   "id": "32a29496-509a-4949-89e2-dbd86b74516d",
   "metadata": {},
   "outputs": [],
   "source": [
    "首先熟悉并理解深度学习的事例数据，这个是一个MNIST数据集，包含60000个28*28灰度图像的手写的数据，以及60000个标签，同时也包含10000个测试数据，10000张测试图片以及正确的\n",
    "数字分类，深度学习的目标是准确对测试数据进行分类，比较深度学习预测的和真实的标签之间的差异"
   ]
  },
  {
   "cell_type": "code",
   "execution_count": null,
   "id": "070313a9-cf10-4def-a241-f78ac3af8c7a",
   "metadata": {},
   "outputs": [],
   "source": [
    "代码清单2-1 加载Keras中的MNIST数据集"
   ]
  },
  {
   "cell_type": "code",
   "execution_count": 7,
   "id": "f36a0be9-1d03-4a78-982a-0c5bd0f2ca15",
   "metadata": {},
   "outputs": [
    {
     "name": "stdout",
     "output_type": "stream",
     "text": [
      "Downloading data from https://storage.googleapis.com/tensorflow/tf-keras-datasets/mnist.npz\n",
      "\u001b[1m11490434/11490434\u001b[0m \u001b[32m━━━━━━━━━━━━━━━━━━━━\u001b[0m\u001b[37m\u001b[0m \u001b[1m3s\u001b[0m 0us/step\n"
     ]
    }
   ],
   "source": [
    "from tensorflow.keras.datasets import mnist\n",
    "(train_images, train_labels), (test_images, test_labels) = mnist.load_data()"
   ]
  },
  {
   "cell_type": "code",
   "execution_count": 9,
   "id": "61a09a50-7cfc-4f6e-a5e8-427fd3915e9d",
   "metadata": {},
   "outputs": [
    {
     "data": {
      "text/plain": [
       "(60000, 28, 28)"
      ]
     },
     "execution_count": 9,
     "metadata": {},
     "output_type": "execute_result"
    }
   ],
   "source": [
    "train_images.shape"
   ]
  },
  {
   "cell_type": "code",
   "execution_count": 12,
   "id": "271b8e8e-499f-49c2-a0d8-3578744fc6c0",
   "metadata": {},
   "outputs": [
    {
     "data": {
      "text/plain": [
       "(60000,)"
      ]
     },
     "execution_count": 12,
     "metadata": {},
     "output_type": "execute_result"
    }
   ],
   "source": [
    "train_labels.shape"
   ]
  },
  {
   "cell_type": "code",
   "execution_count": 13,
   "id": "02d57bc4-1ab8-4767-b407-265a1e9a0971",
   "metadata": {},
   "outputs": [
    {
     "data": {
      "text/plain": [
       "array([5, 0, 4, ..., 5, 6, 8], dtype=uint8)"
      ]
     },
     "execution_count": 13,
     "metadata": {},
     "output_type": "execute_result"
    }
   ],
   "source": [
    "train_labels"
   ]
  },
  {
   "cell_type": "code",
   "execution_count": 15,
   "id": "c772b426-e769-4c86-9b50-e61785eb266a",
   "metadata": {},
   "outputs": [
    {
     "data": {
      "text/plain": [
       "(10000,)"
      ]
     },
     "execution_count": 15,
     "metadata": {},
     "output_type": "execute_result"
    }
   ],
   "source": [
    "test_images.shape\n",
    "test_labels.shape"
   ]
  },
  {
   "cell_type": "code",
   "execution_count": null,
   "id": "8f1384fc-711c-403f-a198-4db67e707050",
   "metadata": {},
   "outputs": [],
   "source": [
    "代码清单2-2 神经网络架构\n",
    "创建一个神经网络的架构，包含两层（layer），每层都含有一个激活函数"
   ]
  },
  {
   "cell_type": "code",
   "execution_count": 16,
   "id": "dada0e5c-c916-4cbd-a241-b090ac1691e9",
   "metadata": {},
   "outputs": [],
   "source": [
    "from tensorflow import keras \n",
    "from tensorflow.keras import layers\n",
    "model = keras.Sequential([\n",
    "    layers.Dense(512, activation='relu'),\n",
    "    layers.Dense(10, activation='softmax')\n",
    "])"
   ]
  },
  {
   "cell_type": "code",
   "execution_count": null,
   "id": "a6a85626-1413-4f7a-ad7e-cb32f2052aa7",
   "metadata": {},
   "outputs": [],
   "source": [
    "在训练模型前，需要指定编译，编译就是给模型在进行学习的时候，设定三个特定的条件，使得在模型学习的时候能够根据这三个条件进行自我更新，第一个是优化器，优化器是模型基于训练数据\n",
    "自我更新的机制，其目的是提高模型的精度，第二个是损失函数，衡量模型在学习的性能，比较使用一组参数后的预测结果与一个学习给定的结果之间的差异，损失越小，则说明学习更加有效\n",
    "从而是模型向损失更小的方向进行，第三个是指标，即正确分类图像所占的比例，这个在分类数据中就是正确率"
   ]
  },
  {
   "cell_type": "code",
   "execution_count": null,
   "id": "cba73283-8782-4b14-8f21-8327d8c44d16",
   "metadata": {},
   "outputs": [],
   "source": [
    "代码清单2-3 编译步骤"
   ]
  },
  {
   "cell_type": "code",
   "execution_count": 18,
   "id": "3eeb3db5-9841-4c21-8ba8-fe288d2f69e5",
   "metadata": {},
   "outputs": [],
   "source": [
    "model.compile(optimizer='rmsprop',\n",
    "             loss='sparse_categorical_crossentropy',\n",
    "             metrics=['accuracy'])"
   ]
  },
  {
   "cell_type": "code",
   "execution_count": null,
   "id": "2cfb778e-f6ea-4f8e-af3d-b642772c05f8",
   "metadata": {},
   "outputs": [],
   "source": [
    "数据预处理，对上面的训练数据和测试数据进行转化，这些数据首先都是编码utf8数组，将这些数组转化为float32位数组"
   ]
  },
  {
   "cell_type": "code",
   "execution_count": null,
   "id": "8de9e9c0-e05b-4739-be98-61b692c47318",
   "metadata": {},
   "outputs": [],
   "source": [
    "代码清单2-4 准备图像数据"
   ]
  },
  {
   "cell_type": "code",
   "execution_count": 19,
   "id": "ef985b70-1b10-4b2e-886c-1da928683a0e",
   "metadata": {},
   "outputs": [],
   "source": [
    "train_images = train_images.reshape((60000,28*28))\n",
    "train_images = train_images.astype(\"float32\") / 255\n",
    "test_images = test_images.reshape((10000, 28*28))\n",
    "test_images = test_images.astype(\"float32\") / 255"
   ]
  },
  {
   "cell_type": "code",
   "execution_count": 22,
   "id": "5a814522-02ff-4a57-ac51-81139e045163",
   "metadata": {},
   "outputs": [
    {
     "data": {
      "text/plain": [
       "(60000, 784)"
      ]
     },
     "execution_count": 22,
     "metadata": {},
     "output_type": "execute_result"
    }
   ],
   "source": [
    "train_images.shape"
   ]
  },
  {
   "cell_type": "code",
   "execution_count": 23,
   "id": "4f1b1428-3db6-49a9-9fdf-b804191da10e",
   "metadata": {},
   "outputs": [
    {
     "data": {
      "text/plain": [
       "(10000, 784)"
      ]
     },
     "execution_count": 23,
     "metadata": {},
     "output_type": "execute_result"
    }
   ],
   "source": [
    "test_images.shape"
   ]
  },
  {
   "cell_type": "code",
   "execution_count": null,
   "id": "fdf2167a-b3cc-47df-a6cc-5b982ce1dbcc",
   "metadata": {},
   "outputs": [],
   "source": [
    "完成上述数据转化，就可以利用模型对数据进行训练，在keras中调用模型对fit方法\n",
    "代码清单2-5 "
   ]
  },
  {
   "cell_type": "code",
   "execution_count": 24,
   "id": "ea04350b-1e35-47c4-8dee-f45f3dcd1a7d",
   "metadata": {},
   "outputs": [
    {
     "name": "stdout",
     "output_type": "stream",
     "text": [
      "Epoch 1/5\n",
      "\u001b[1m469/469\u001b[0m \u001b[32m━━━━━━━━━━━━━━━━━━━━\u001b[0m\u001b[37m\u001b[0m \u001b[1m6s\u001b[0m 10ms/step - accuracy: 0.8711 - loss: 0.4430\n",
      "Epoch 2/5\n",
      "\u001b[1m469/469\u001b[0m \u001b[32m━━━━━━━━━━━━━━━━━━━━\u001b[0m\u001b[37m\u001b[0m \u001b[1m5s\u001b[0m 9ms/step - accuracy: 0.9660 - loss: 0.1182\n",
      "Epoch 3/5\n",
      "\u001b[1m469/469\u001b[0m \u001b[32m━━━━━━━━━━━━━━━━━━━━\u001b[0m\u001b[37m\u001b[0m \u001b[1m4s\u001b[0m 9ms/step - accuracy: 0.9785 - loss: 0.0731\n",
      "Epoch 4/5\n",
      "\u001b[1m469/469\u001b[0m \u001b[32m━━━━━━━━━━━━━━━━━━━━\u001b[0m\u001b[37m\u001b[0m \u001b[1m4s\u001b[0m 9ms/step - accuracy: 0.9845 - loss: 0.0529\n",
      "Epoch 5/5\n",
      "\u001b[1m469/469\u001b[0m \u001b[32m━━━━━━━━━━━━━━━━━━━━\u001b[0m\u001b[37m\u001b[0m \u001b[1m5s\u001b[0m 10ms/step - accuracy: 0.9895 - loss: 0.0367\n"
     ]
    },
    {
     "data": {
      "text/plain": [
       "<keras.src.callbacks.history.History at 0x7ff63a8b3f40>"
      ]
     },
     "execution_count": 24,
     "metadata": {},
     "output_type": "execute_result"
    }
   ],
   "source": [
    "model.fit(train_images, train_labels, epochs=5, batch_size=128)"
   ]
  },
  {
   "cell_type": "code",
   "execution_count": null,
   "id": "35228f7c-36c7-4a50-bd45-b2317c5173f1",
   "metadata": {},
   "outputs": [],
   "source": [
    "现在可以根据上面的预测模型对新的图片进行预测了\n",
    "代码清单2-6 利用模型对数据进行预测"
   ]
  },
  {
   "cell_type": "code",
   "execution_count": 25,
   "id": "84b45253-8f24-4be0-ad09-a855bd8472c1",
   "metadata": {},
   "outputs": [
    {
     "data": {
      "text/plain": [
       "array([[0., 0., 0., ..., 0., 0., 0.],\n",
       "       [0., 0., 0., ..., 0., 0., 0.],\n",
       "       [0., 0., 0., ..., 0., 0., 0.],\n",
       "       ...,\n",
       "       [0., 0., 0., ..., 0., 0., 0.],\n",
       "       [0., 0., 0., ..., 0., 0., 0.],\n",
       "       [0., 0., 0., ..., 0., 0., 0.]], dtype=float32)"
      ]
     },
     "execution_count": 25,
     "metadata": {},
     "output_type": "execute_result"
    }
   ],
   "source": [
    "test_digits = test_images[0:10]\n",
    "test_digits"
   ]
  },
  {
   "cell_type": "code",
   "execution_count": 26,
   "id": "fab46795-d238-4991-ad46-9dbfda3588c3",
   "metadata": {},
   "outputs": [
    {
     "name": "stdout",
     "output_type": "stream",
     "text": [
      "\u001b[1m1/1\u001b[0m \u001b[32m━━━━━━━━━━━━━━━━━━━━\u001b[0m\u001b[37m\u001b[0m \u001b[1m0s\u001b[0m 118ms/step\n"
     ]
    }
   ],
   "source": [
    "predictions = model.predict(test_digits)"
   ]
  },
  {
   "cell_type": "code",
   "execution_count": 27,
   "id": "2f9abed3-9da5-4a4e-b37e-08d9dd226705",
   "metadata": {},
   "outputs": [
    {
     "data": {
      "text/plain": [
       "(10, 10)"
      ]
     },
     "execution_count": 27,
     "metadata": {},
     "output_type": "execute_result"
    }
   ],
   "source": [
    "predictions.shape"
   ]
  },
  {
   "cell_type": "code",
   "execution_count": 28,
   "id": "55c726de-4fa8-4aa2-93af-5b3bd8201fdd",
   "metadata": {},
   "outputs": [
    {
     "data": {
      "text/plain": [
       "array([6.17950420e-08, 1.06358975e-08, 1.45883469e-05, 1.30804823e-04,\n",
       "       8.77893036e-11, 2.76359913e-07, 5.87269111e-13, 9.99844313e-01,\n",
       "       1.19550589e-06, 8.92807566e-06], dtype=float32)"
      ]
     },
     "execution_count": 28,
     "metadata": {},
     "output_type": "execute_result"
    }
   ],
   "source": [
    "predictions[0]"
   ]
  },
  {
   "cell_type": "code",
   "execution_count": 29,
   "id": "430b02b1-cadf-4906-85a3-067ea4842109",
   "metadata": {},
   "outputs": [
    {
     "data": {
      "text/plain": [
       "7"
      ]
     },
     "execution_count": 29,
     "metadata": {},
     "output_type": "execute_result"
    }
   ],
   "source": [
    "predictions[0].argmax()"
   ]
  },
  {
   "cell_type": "code",
   "execution_count": 30,
   "id": "6b9e31a1-244a-424e-8a1d-19979dbaaf1a",
   "metadata": {},
   "outputs": [
    {
     "data": {
      "text/plain": [
       "0.9998443"
      ]
     },
     "execution_count": 30,
     "metadata": {},
     "output_type": "execute_result"
    }
   ],
   "source": [
    "predictions[0][7]"
   ]
  },
  {
   "cell_type": "code",
   "execution_count": 31,
   "id": "3d79fc7b-06f9-4586-a225-e88e5c960846",
   "metadata": {},
   "outputs": [
    {
     "data": {
      "text/plain": [
       "7"
      ]
     },
     "execution_count": 31,
     "metadata": {},
     "output_type": "execute_result"
    }
   ],
   "source": [
    "test_labels[0]"
   ]
  },
  {
   "cell_type": "code",
   "execution_count": null,
   "id": "3ccd0d93-59f8-486e-b649-3be76a59b660",
   "metadata": {},
   "outputs": [],
   "source": [
    "在全新的数据上进行模型的评估，上面的预测是在一个测试数据中取了前10个进行预测，并且看了一下第一个预测的准确性，准确性达到99%，但是我们这次是从所有的测试数据上进行评估\n",
    "代码清单2-7"
   ]
  },
  {
   "cell_type": "code",
   "execution_count": 32,
   "id": "f380b25b-ab17-4a06-8ba7-601466ac6a9c",
   "metadata": {},
   "outputs": [
    {
     "name": "stdout",
     "output_type": "stream",
     "text": [
      "\u001b[1m313/313\u001b[0m \u001b[32m━━━━━━━━━━━━━━━━━━━━\u001b[0m\u001b[37m\u001b[0m \u001b[1m1s\u001b[0m 4ms/step - accuracy: 0.9775 - loss: 0.0723\n",
      "test_acc:0.980400025844574\n"
     ]
    }
   ],
   "source": [
    "test_loss, test_acc = model.evaluate(test_images, test_labels)\n",
    "print(f\"test_acc:{test_acc}\")\n"
   ]
  },
  {
   "cell_type": "code",
   "execution_count": null,
   "id": "baf3dc50-d2b4-4611-8c7a-c86eab082b73",
   "metadata": {},
   "outputs": [],
   "source": [
    "神经网络的数据表示\n",
    "张量，tensor是一个数据容器，表示的是数据在空间中存储的一种表示方法。如一个数字就是标量，也是0阶张量，普通的向量，包含几个数据或者是多个数字的一维的向量是1阶张量。张量的\n",
    "轴或者阶就是张量的数据维度，如向量是1，矩阵是2，n个矩阵的存储就是3,是因为包含了3个维度。"
   ]
  },
  {
   "cell_type": "code",
   "execution_count": 34,
   "id": "937507d7-10aa-41b6-adde-df981281d1b0",
   "metadata": {},
   "outputs": [
    {
     "name": "stdout",
     "output_type": "stream",
     "text": [
      "12\n"
     ]
    },
    {
     "data": {
      "text/plain": [
       "0"
      ]
     },
     "execution_count": 34,
     "metadata": {},
     "output_type": "execute_result"
    }
   ],
   "source": [
    "import numpy as np\n",
    "x = np.array(12)\n",
    "print(x)\n",
    "x.ndim"
   ]
  },
  {
   "cell_type": "code",
   "execution_count": 35,
   "id": "3c4c65f7-7ba0-4d86-be2a-dc8345ab489c",
   "metadata": {},
   "outputs": [
    {
     "name": "stdout",
     "output_type": "stream",
     "text": [
      "[12  3  6 14  7]\n"
     ]
    },
    {
     "data": {
      "text/plain": [
       "1"
      ]
     },
     "execution_count": 35,
     "metadata": {},
     "output_type": "execute_result"
    }
   ],
   "source": [
    "x = np.array([12,3,6,14,7])\n",
    "print(x)\n",
    "x.ndim"
   ]
  },
  {
   "cell_type": "code",
   "execution_count": 36,
   "id": "4e1a3a38-db4b-4c23-aa93-61af9bfefaed",
   "metadata": {},
   "outputs": [
    {
     "name": "stdout",
     "output_type": "stream",
     "text": [
      "[[ 5 78  2 34  0]\n",
      " [ 6 79  3 35  1]\n",
      " [ 7 80  4 36  2]]\n"
     ]
    }
   ],
   "source": [
    "x = np.array([[5,78,2,34,0],\n",
    "              [6,79,3,35,1],\n",
    "              [7,80,4,36,2]])\n",
    "x.ndim\n",
    "print(x)"
   ]
  },
  {
   "cell_type": "code",
   "execution_count": 37,
   "id": "bd30eb95-556f-42d9-bc55-82d731cf97ca",
   "metadata": {},
   "outputs": [
    {
     "data": {
      "text/plain": [
       "2"
      ]
     },
     "execution_count": 37,
     "metadata": {},
     "output_type": "execute_result"
    }
   ],
   "source": [
    "x.ndim"
   ]
  },
  {
   "cell_type": "code",
   "execution_count": 39,
   "id": "4b6379bb-b341-4007-a6b5-ea80aa15c9a2",
   "metadata": {},
   "outputs": [
    {
     "data": {
      "text/plain": [
       "3"
      ]
     },
     "execution_count": 39,
     "metadata": {},
     "output_type": "execute_result"
    }
   ],
   "source": [
    "x = np.array([\n",
    "             [[5,78,2,34,0],\n",
    "              [6,79,3,35,1],\n",
    "              [7,80,4,36,2]],\n",
    "    \n",
    "              [[5,78,2,34,0],\n",
    "              [6,79,3,35,1],\n",
    "              [7,80,4,36,2]],\n",
    "    \n",
    "              [[5,78,2,34,0],\n",
    "              [6,79,3,35,1],\n",
    "              [7,80,4,36,2]]\n",
    "])\n",
    "x.ndim # 三个矩阵打包，形成一个新的数组，这个就是3阶张量，是一个数据立方体，还可以将这个样的多个数据立方体进行打包，就是4阶的张量，可以无限的进行打包"
   ]
  },
  {
   "cell_type": "code",
   "execution_count": null,
   "id": "f974e179-0ca8-44b7-9f8a-8a282390a674",
   "metadata": {},
   "outputs": [],
   "source": [
    "关键属性，轴的个数，就是说张量的维度，0阶张量没有轴，就是一个数字而已，一阶张量的轴是1，表示在这个轴上可以有很多数字，二阶张量的轴是2，表示有两个方向，每个轴上都有很多\n",
    "数字，3阶张量的轴是3，表示有三个维度，每个维度上有很多数字\n",
    "形状，shape指的是每个轴上的分布的数字的数目，比如一个2*3的矩阵，就是2行，3列，向量一般是(n,)n指的是这个向量里边的数目，标量，也就是一个数，形状是（）空的括号。\n",
    "数据类型，一般是指张量所包含的数据类型，包括float16，float32， float64，utf8等，还有string类型的张量"
   ]
  },
  {
   "cell_type": "code",
   "execution_count": 40,
   "id": "9557d86a-3640-49eb-aced-b302232273ec",
   "metadata": {},
   "outputs": [],
   "source": [
    "from tensorflow.keras.datasets import mnist\n",
    "(train_images, train_labels), (test_images, test_labels) = mnist.load_data()"
   ]
  },
  {
   "cell_type": "code",
   "execution_count": 41,
   "id": "c0bf8512-9d77-4b72-a5da-6f0d3327d4c2",
   "metadata": {},
   "outputs": [
    {
     "data": {
      "text/plain": [
       "3"
      ]
     },
     "execution_count": 41,
     "metadata": {},
     "output_type": "execute_result"
    }
   ],
   "source": [
    "train_images.ndim"
   ]
  },
  {
   "cell_type": "code",
   "execution_count": 42,
   "id": "a243fe8f-1635-4d35-ba4f-ed78bdf0abdc",
   "metadata": {},
   "outputs": [
    {
     "data": {
      "text/plain": [
       "(60000, 28, 28)"
      ]
     },
     "execution_count": 42,
     "metadata": {},
     "output_type": "execute_result"
    }
   ],
   "source": [
    "train_images.shape"
   ]
  },
  {
   "cell_type": "code",
   "execution_count": 43,
   "id": "f7d99568-937d-4f87-aef6-c14d23c57f5c",
   "metadata": {},
   "outputs": [
    {
     "data": {
      "text/plain": [
       "dtype('uint8')"
      ]
     },
     "execution_count": 43,
     "metadata": {},
     "output_type": "execute_result"
    }
   ],
   "source": [
    "train_images.dtype"
   ]
  },
  {
   "cell_type": "code",
   "execution_count": 46,
   "id": "234f56ae-a5c2-4515-912a-0422badb9c0e",
   "metadata": {},
   "outputs": [
    {
     "data": {
      "text/plain": [
       "array([[  0,   0,   0,   0,   0,   0,   0,   0,   0,   0],\n",
       "       [  0,   0,   0,   0,   0,   0,   0,   0,   0,   0],\n",
       "       [  0,   0,   0,   0,   0,   0,   0,   0,   0,   0],\n",
       "       [  0,   0,   0,   0,   0,   0,   0,   0,   0,   0],\n",
       "       [  0,   0,   0,   0,   0,   0,   0,   0,   0,   0],\n",
       "       [  0,   0,   0,   0,   0,   0,   0,   0,   0,   0],\n",
       "       [  0,   0,   0,   0,   0,   0,   0,   0,  30,  36],\n",
       "       [  0,   0,   0,   0,   0,   0,   0,  49, 238, 253],\n",
       "       [  0,   0,   0,   0,   0,   0,   0,  18, 219, 253],\n",
       "       [  0,   0,   0,   0,   0,   0,   0,   0,  80, 156]], dtype=uint8)"
      ]
     },
     "execution_count": 46,
     "metadata": {},
     "output_type": "execute_result"
    }
   ],
   "source": [
    "train_images[0][:10,:10]"
   ]
  },
  {
   "cell_type": "code",
   "execution_count": null,
   "id": "91d5bf4b-54bf-4b28-a6dc-5b9e010acffb",
   "metadata": {},
   "outputs": [],
   "source": [
    "利用matplotlib可以显示这些数字组成的图片，更加直观的观看\n",
    "代码清单2-8 显示第四个数字"
   ]
  },
  {
   "cell_type": "code",
   "execution_count": 48,
   "id": "a6038a0a-1a2a-44e8-a949-f59da55416a9",
   "metadata": {},
   "outputs": [
    {
     "data": {
      "image/png": "[encoded data removed]",
      "text/plain": [
       "<Figure size 640x480 with 1 Axes>"
      ]
     },
     "metadata": {},
     "output_type": "display_data"
    }
   ],
   "source": [
    "import matplotlib.pyplot as plt\n",
    "digit = train_images[4]\n",
    "plt.imshow(digit, cmap=plt.cm.binary)\n",
    "plt.show()"
   ]
  },
  {
   "cell_type": "code",
   "execution_count": 49,
   "id": "6b27f5d6-ad7f-47ef-8b2e-4b0812216072",
   "metadata": {},
   "outputs": [
    {
     "data": {
      "text/plain": [
       "9"
      ]
     },
     "execution_count": 49,
     "metadata": {},
     "output_type": "execute_result"
    }
   ],
   "source": [
    "train_labels[4]"
   ]
  },
  {
   "cell_type": "code",
   "execution_count": null,
   "id": "b580083e-36af-44fa-9c9f-5540858c624c",
   "metadata": {},
   "outputs": [],
   "source": [
    "2.26 在numpy中进行张量的操作"
   ]
  },
  {
   "cell_type": "code",
   "execution_count": 52,
   "id": "841fb4f3-0ce2-452e-9570-f4877d319697",
   "metadata": {},
   "outputs": [
    {
     "data": {
      "image/png": "[encoded data removed]",
      "text/plain": [
       "<Figure size 640x480 with 1 Axes>"
      ]
     },
     "metadata": {},
     "output_type": "display_data"
    }
   ],
   "source": [
    "digit1 = train_images[4,7:-7, 7:-7]\n",
    "digit2 = train_images[4, 14:, 14:]\n",
    "plt.imshow(digit1, cmap=plt.cm.binary)\n",
    "plt.show()"
   ]
  },
  {
   "cell_type": "code",
   "execution_count": 53,
   "id": "2c377c08-1235-4500-9eb5-fd6dd06c82bb",
   "metadata": {},
   "outputs": [
    {
     "data": {
      "image/png": "[encoded data removed]",
      "text/plain": [
       "<Figure size 640x480 with 1 Axes>"
      ]
     },
     "metadata": {},
     "output_type": "display_data"
    }
   ],
   "source": [
    "plt.imshow(digit2, cmap=plt.cm.binary)\n",
    "plt.show()"
   ]
  },
  {
   "cell_type": "code",
   "execution_count": 55,
   "id": "e060813f-6b63-4376-bb6c-9afa553b648d",
   "metadata": {},
   "outputs": [
    {
     "name": "stdout",
     "output_type": "stream",
     "text": [
      "(90, 28, 28)\n"
     ]
    },
    {
     "data": {
      "text/plain": [
       "3"
      ]
     },
     "execution_count": 55,
     "metadata": {},
     "output_type": "execute_result"
    }
   ],
   "source": [
    "my_slice = train_images[10:100, :,:] \n",
    "my_slice = train_images[10:100, 0:28, 0:28]\n",
    "print(my_slice.shape)\n",
    "my_slice.ndim"
   ]
  },
  {
   "cell_type": "code",
   "execution_count": null,
   "id": "c24a2dca-4484-43cf-85db-341e4d98e9a4",
   "metadata": {},
   "outputs": [],
   "source": [
    "2.3.1 逐元素运算，张量的一些运算"
   ]
  },
  {
   "cell_type": "code",
   "execution_count": 56,
   "id": "2685b81c-8f88-4358-b918-a85c2fc1fa2d",
   "metadata": {},
   "outputs": [],
   "source": [
    "def naive_relu(x):\n",
    "    assert len(x.shape) == 2\n",
    "    x = x.copy()\n",
    "    for i in range(x.shape[0]):\n",
    "        for j in range(x.shape[1]):\n",
    "            x[i,j] = max(x[i,j],0)\n",
    "    return x "
   ]
  },
  {
   "cell_type": "code",
   "execution_count": 58,
   "id": "9628a589-254b-44dd-9738-9ace2760b9af",
   "metadata": {},
   "outputs": [
    {
     "data": {
      "text/plain": [
       "array([[2, 0, 4],\n",
       "       [3, 4, 5],\n",
       "       [0, 0, 0]])"
      ]
     },
     "execution_count": 58,
     "metadata": {},
     "output_type": "execute_result"
    }
   ],
   "source": [
    "x = np.array([[2,-3,4],\n",
    "              [3,4,5],\n",
    "              [-1,0,-2]\n",
    "             ])\n",
    "naive_relu(x)"
   ]
  },
  {
   "cell_type": "code",
   "execution_count": 60,
   "id": "503145db-60c8-4447-9429-6d8953f27732",
   "metadata": {},
   "outputs": [],
   "source": [
    "def naive_add(x,y):\n",
    "    assert len(x.shape) == 2\n",
    "    assert len(x.shape) == len(y.shape)\n",
    "    x = x.copy()\n",
    "    for i in range(x.shape[0]):\n",
    "        for j in range(y.shape[0]):\n",
    "            x[i,j] += y[i,j]\n",
    "    return x "
   ]
  },
  {
   "cell_type": "code",
   "execution_count": 61,
   "id": "af78d857-fdc7-41d1-995e-36f8614990b5",
   "metadata": {},
   "outputs": [
    {
     "data": {
      "text/plain": [
       "array([[ 3, -1,  7],\n",
       "       [ 6,  8, 10],\n",
       "       [ 2,  4, -3]])"
      ]
     },
     "execution_count": 61,
     "metadata": {},
     "output_type": "execute_result"
    }
   ],
   "source": [
    "y = np.array([[1,2,3],\n",
    "              [3,4,5],\n",
    "              [3,4,-1]\n",
    "             ])\n",
    "naive_add(x,y)"
   ]
  },
  {
   "cell_type": "code",
   "execution_count": 62,
   "id": "e7bdd4be-bca7-470f-95ef-9be520853ebf",
   "metadata": {},
   "outputs": [
    {
     "data": {
      "text/plain": [
       "array([[ 3, -1,  7],\n",
       "       [ 6,  8, 10],\n",
       "       [ 2,  4, -3]])"
      ]
     },
     "execution_count": 62,
     "metadata": {},
     "output_type": "execute_result"
    }
   ],
   "source": [
    "z = x + y # 两个矩阵每个元素直接one by one的相加\n",
    "z"
   ]
  },
  {
   "cell_type": "code",
   "execution_count": 63,
   "id": "530636e9-a5b9-4bfb-83a4-d80a15396ea6",
   "metadata": {},
   "outputs": [
    {
     "data": {
      "text/plain": [
       "array([[2, 0, 4],\n",
       "       [3, 4, 5],\n",
       "       [0, 0, 0]])"
      ]
     },
     "execution_count": 63,
     "metadata": {},
     "output_type": "execute_result"
    }
   ],
   "source": [
    "np.maximum(x,0) # numpy 自己的Relu， 就是判断每个数字是否是大于0，大于0还是它本身，要是小于或者等于0就设置为0"
   ]
  },
  {
   "cell_type": "code",
   "execution_count": null,
   "id": "86f01434-680d-41a9-a7aa-d9d013a9af00",
   "metadata": {},
   "outputs": [],
   "source": [
    "2.3.2 广播（broadcast）两个形状不一样的张量如何想加，这个时候会把一个较小的张量进行广播，来匹配较大的张量，比如一个矩阵和一个向量进行相加，通常会把这个向量进行广播"
   ]
  },
  {
   "cell_type": "code",
   "execution_count": 71,
   "id": "5ba44818-05a1-44d3-8a49-1215e8e34209",
   "metadata": {},
   "outputs": [
    {
     "name": "stdout",
     "output_type": "stream",
     "text": [
      "[0.91948573 0.68378624 0.6753012  0.83516985 0.70359784 0.28137073\n",
      " 0.8335972  0.20296386 0.3665551  0.68389987]\n"
     ]
    }
   ],
   "source": [
    "import numpy as np\n",
    "X = np.random.random((32,10))\n",
    "#print(x)\n",
    "y = np.random.random((10,))\n",
    "print(y)"
   ]
  },
  {
   "cell_type": "code",
   "execution_count": 84,
   "id": "b3a0a1a8-2891-4a59-b1ec-0da55294fef7",
   "metadata": {},
   "outputs": [
    {
     "data": {
      "text/plain": [
       "array([[[[0.91948573, 0.68378624, 0.6753012 , 0.83516985, 0.70359784,\n",
       "          0.28137073, 0.8335972 , 0.20296386, 0.3665551 , 0.68389987]]]])"
      ]
     },
     "execution_count": 84,
     "metadata": {},
     "output_type": "execute_result"
    }
   ],
   "source": [
    "y = np.expand_dims(y,axis=0)\n",
    "y"
   ]
  },
  {
   "cell_type": "code",
   "execution_count": 67,
   "id": "debcc665-7e71-4fc1-820c-0243000ddd0d",
   "metadata": {},
   "outputs": [
    {
     "data": {
      "text/plain": [
       "array([[0.05493952, 0.3781953 , 0.7120115 , 0.70001572, 0.3918344 ,\n",
       "        0.2620828 , 0.97899252, 0.5210747 , 0.97330219, 0.04793427]])"
      ]
     },
     "execution_count": 67,
     "metadata": {},
     "output_type": "execute_result"
    }
   ],
   "source": [
    "y"
   ]
  },
  {
   "cell_type": "code",
   "execution_count": 77,
   "id": "4b40f5c2-8dcd-46fb-b452-062f08a92f12",
   "metadata": {},
   "outputs": [
    {
     "data": {
      "text/plain": [
       "2"
      ]
     },
     "execution_count": 77,
     "metadata": {},
     "output_type": "execute_result"
    }
   ],
   "source": [
    "Y = np.concatenate([y]*32, axis=0)\n",
    "Y.ndim"
   ]
  },
  {
   "cell_type": "code",
   "execution_count": 78,
   "id": "a3f79dbb-0058-45ab-a0a5-80e3ae30990d",
   "metadata": {},
   "outputs": [
    {
     "data": {
      "text/plain": [
       "2"
      ]
     },
     "execution_count": 78,
     "metadata": {},
     "output_type": "execute_result"
    }
   ],
   "source": [
    "X.ndim"
   ]
  },
  {
   "cell_type": "code",
   "execution_count": 79,
   "id": "1764ac8a-f4be-49b8-964b-e5c1b0860bdc",
   "metadata": {},
   "outputs": [
    {
     "data": {
      "text/plain": [
       "(32, 10)"
      ]
     },
     "execution_count": 79,
     "metadata": {},
     "output_type": "execute_result"
    }
   ],
   "source": [
    "Y.shape"
   ]
  },
  {
   "cell_type": "code",
   "execution_count": 80,
   "id": "a7a0b92e-d6ff-4d80-a97a-dffb86624786",
   "metadata": {},
   "outputs": [
    {
     "data": {
      "text/plain": [
       "(32, 10)"
      ]
     },
     "execution_count": 80,
     "metadata": {},
     "output_type": "execute_result"
    }
   ],
   "source": [
    "X.shape"
   ]
  },
  {
   "cell_type": "code",
   "execution_count": 81,
   "id": "aa54e534-6536-44b2-b021-82fa424bd134",
   "metadata": {},
   "outputs": [],
   "source": [
    "Z = X + Y"
   ]
  },
  {
   "cell_type": "code",
   "execution_count": 85,
   "id": "18d80681-af2a-47cc-84dd-ef95dfcc2785",
   "metadata": {},
   "outputs": [
    {
     "data": {
      "text/plain": [
       "2"
      ]
     },
     "execution_count": 85,
     "metadata": {},
     "output_type": "execute_result"
    }
   ],
   "source": [
    "len(X.shape)"
   ]
  },
  {
   "cell_type": "code",
   "execution_count": 86,
   "id": "5f26d8ed-303d-4699-a945-494dda81a18b",
   "metadata": {},
   "outputs": [
    {
     "data": {
      "text/plain": [
       "2"
      ]
     },
     "execution_count": 86,
     "metadata": {},
     "output_type": "execute_result"
    }
   ],
   "source": [
    "len(Y.shape)"
   ]
  },
  {
   "cell_type": "code",
   "execution_count": 89,
   "id": "1f920c04-88ba-4817-8c01-fd1d9cbe7cdd",
   "metadata": {},
   "outputs": [],
   "source": [
    "def naive_add_matrix_and_vector(x, y):\n",
    "    assert len(x.shape) == 2\n",
    "    assert len(y.shape) == 1\n",
    "    assert x.shape[1] == y.shape[0] # 判断矩阵的列的个数和向量的长度是否是相等的\n",
    "    x = x.copy()\n",
    "    for i in range(x.shape[0]):\n",
    "        for j in range(x.shape[1]):\n",
    "            x[i,j] += y[j]\n",
    "    return x\n"
   ]
  },
  {
   "cell_type": "code",
   "execution_count": 90,
   "id": "1ed1fe7f-0f10-409d-a36a-64883247e129",
   "metadata": {},
   "outputs": [
    {
     "data": {
      "text/plain": [
       "array([[3, 4, 3],\n",
       "       [3, 5, 5],\n",
       "       [2, 4, 4]])"
      ]
     },
     "execution_count": 90,
     "metadata": {},
     "output_type": "execute_result"
    }
   ],
   "source": [
    "x = np.array([[2,2,2],\n",
    "              [2,3,4],\n",
    "              [1,2,3]\n",
    "             ])\n",
    "y = np.array([1,2,1])\n",
    "naive_add_matrix_and_vector(x,y)"
   ]
  },
  {
   "cell_type": "code",
   "execution_count": 91,
   "id": "aa44e06a-6965-4565-b114-5f9ea298b70d",
   "metadata": {},
   "outputs": [],
   "source": [
    "import numpy as np\n",
    "x = np.random.random((64,3,32,10))\n",
    "y = np.random.random((32,10))\n",
    "z = np.maximum(x,y)"
   ]
  },
  {
   "cell_type": "code",
   "execution_count": 94,
   "id": "746ab4d1-81d7-457b-85e4-accba3ef61fb",
   "metadata": {},
   "outputs": [
    {
     "data": {
      "text/plain": [
       "14"
      ]
     },
     "execution_count": 94,
     "metadata": {},
     "output_type": "execute_result"
    }
   ],
   "source": [
    "x = np.array([1,2,3])\n",
    "y = np.array([1,2,3])\n",
    "z = np.dot(x, y)\n",
    "z"
   ]
  },
  {
   "cell_type": "code",
   "execution_count": 95,
   "id": "b038021e-6b10-4486-91ff-fd61d9eb19a9",
   "metadata": {},
   "outputs": [],
   "source": [
    "def naive_vector_dot(x, y):\n",
    "    assert len(x.shape) == 1\n",
    "    assert len(y.shape) == 1\n",
    "    assert x.shape[0] == y.shape[0]\n",
    "    z = 0\n",
    "    for i in range(x.shape[0]):\n",
    "        z += x[i] * y[i]\n",
    "    return z "
   ]
  },
  {
   "cell_type": "code",
   "execution_count": 96,
   "id": "acf244e3-3fae-4cc0-9523-b7f6fe0fbcb0",
   "metadata": {},
   "outputs": [
    {
     "data": {
      "text/plain": [
       "14"
      ]
     },
     "execution_count": 96,
     "metadata": {},
     "output_type": "execute_result"
    }
   ],
   "source": [
    "naive_vector_dot(x, y) # 两个向量的点积是一个标量，只有长度相同的向量才能进行点积"
   ]
  },
  {
   "cell_type": "code",
   "execution_count": 115,
   "id": "6f1faa3b-1dfb-44cd-8112-a1531fcfb950",
   "metadata": {},
   "outputs": [],
   "source": [
    "def naive_matrix_vector_dot(x, y):\n",
    "    assert len(x.shape) == 2\n",
    "    assert len(y.shape) == 1\n",
    "    assert x.shape[1] == y.shape[0]  # 矩阵的列数和向量的行数相同，向量是行\n",
    "    z = np.zeros(x.shape[0])\n",
    "    for i in range(x.shape[0]):\n",
    "        for j in range(x.shape[1]):\n",
    "            z[i] += x[i,j]*y[j]\n",
    "    return z "
   ]
  },
  {
   "cell_type": "code",
   "execution_count": 116,
   "id": "1a4ac585-d5db-4e19-a73b-08abdae134df",
   "metadata": {},
   "outputs": [
    {
     "data": {
      "text/plain": [
       "array([14., 20., 26.])"
      ]
     },
     "execution_count": 116,
     "metadata": {},
     "output_type": "execute_result"
    }
   ],
   "source": [
    "naive_matrix_vector_dot(np.array([[1,2,3],[2,3,4],[3,4,5]]), np.array([1,2,3]))"
   ]
  },
  {
   "cell_type": "code",
   "execution_count": 104,
   "id": "69ea085f-413f-412c-bdde-c3e8d7f20743",
   "metadata": {},
   "outputs": [
    {
     "data": {
      "text/plain": [
       "array([ 6.,  9., 12.,  6.])"
      ]
     },
     "execution_count": 104,
     "metadata": {},
     "output_type": "execute_result"
    }
   ],
   "source": [
    "naive_matrix_vector_dot(np.array([[1,2,3],[2,3,4],[3,4,5],[1,2,3]]), np.array([1,1,1]))"
   ]
  },
  {
   "cell_type": "code",
   "execution_count": 109,
   "id": "a7e0fc39-31ef-459e-b779-ad19f1263295",
   "metadata": {},
   "outputs": [
    {
     "data": {
      "text/plain": [
       "3"
      ]
     },
     "execution_count": 109,
     "metadata": {},
     "output_type": "execute_result"
    }
   ],
   "source": [
    "k = np.array([[1,2,3],[2,3,4],[3,4,5],[1,2,3]])\n",
    "k.shape[1]"
   ]
  },
  {
   "cell_type": "code",
   "execution_count": 117,
   "id": "8c2afc29-c8e4-4377-a10a-d7278b20f346",
   "metadata": {},
   "outputs": [
    {
     "data": {
      "text/plain": [
       "array([1, 1, 1])"
      ]
     },
     "execution_count": 117,
     "metadata": {},
     "output_type": "execute_result"
    }
   ],
   "source": [
    "f = np.array([1,1,1])\n",
    "f"
   ]
  },
  {
   "cell_type": "code",
   "execution_count": 129,
   "id": "cdd7e876-005d-42ea-9610-b5f3b6264d79",
   "metadata": {},
   "outputs": [],
   "source": [
    "def naive_matrix_vector_dot(x, y):\n",
    "    z = np.zeros(x.shape[0])\n",
    "    for i in range(x.shape[0]):\n",
    "        z[i] = naive_vector_dot(x[i, :], y)\n",
    "    return z"
   ]
  },
  {
   "cell_type": "code",
   "execution_count": 134,
   "id": "8c37b613-4e15-499f-b902-77a1a47ac61a",
   "metadata": {},
   "outputs": [],
   "source": [
    "x = np.array([[1,2,3],[2,3,4],[3,4,5],[1,2,3]])\n",
    "y = np.array([1,1,1])\n",
    "z = naive_matrix_vector_dot(x, y)"
   ]
  },
  {
   "cell_type": "code",
   "execution_count": 139,
   "id": "b78cc604-8bca-4d6a-ba61-15a5f52beca9",
   "metadata": {},
   "outputs": [],
   "source": [
    "def naive_matrix_dot(x, y):\n",
    "    assert len(x.shape) == 2\n",
    "    assert len(y.shape) == 2\n",
    "    assert x.shape[1] == y.shape[0]\n",
    "    z = np.zeros((x.shape[0], y.shape[1]))\n",
    "    for i in range(x.shape[0]):\n",
    "        for j in range(y.shape[1]):\n",
    "            row_x = x[i,:]\n",
    "            column_y = y[:,j]\n",
    "            z[i,j] = naive_vector_dot(row_x, column_y)\n",
    "    return z "
   ]
  },
  {
   "cell_type": "code",
   "execution_count": 140,
   "id": "a03303bb-ed88-4a60-a240-06b7f593073e",
   "metadata": {},
   "outputs": [
    {
     "data": {
      "text/plain": [
       "array([[15., 21., 29., 13.],\n",
       "       [15., 21., 29., 13.],\n",
       "       [27., 39., 55., 25.],\n",
       "       [ 6.,  9., 13.,  6.]])"
      ]
     },
     "execution_count": 140,
     "metadata": {},
     "output_type": "execute_result"
    }
   ],
   "source": [
    "x = naive_matrix_dot(np.array([[1,2,3],[1,2,3],[3,4,5],[1,1,1]]), np.array([[1,2,3,2],[1,2,4,1],[4,5,6,3]]))\n",
    "x"
   ]
  },
  {
   "cell_type": "code",
   "execution_count": 142,
   "id": "86e9ac1c-96a5-4dbd-b176-67b758a33da0",
   "metadata": {},
   "outputs": [
    {
     "data": {
      "text/plain": [
       "array([[0., 0., 0.],\n",
       "       [0., 0., 0.]])"
      ]
     },
     "execution_count": 142,
     "metadata": {},
     "output_type": "execute_result"
    }
   ],
   "source": []
  },
  {
   "cell_type": "code",
   "execution_count": null,
   "id": "d250a3b6-5513-4f4c-882c-fbf0c09eab41",
   "metadata": {},
   "outputs": [],
   "source": [
    "深度学习的步骤：\n",
    "#1. 抽取样本x和目标y_true 组成一个数据批量\n",
    "#2. 在x上运行模型（这一步叫做向前传播，forward pass）, 得到预测值y_pred \n",
    "#3. 计算模型在这批数据上的损失值，用于衡量y_pred 和y_true 之间的差距\n",
    "#4. 更新模型的所有权重，以略微减少模型在这批数据上的损失值\n",
    "更新模型的权重是一个难点，如果保持模型的其他系数不变，只更新一个系数的变化，变大，计算一次损失值，然后变小计算一次损失值，比较损失值的方向，从而更新模型的系数，但是当模型的\n",
    "系数非常多的时候，对每个系数都进行两次运算是非常低效的。一种高效的方法是梯度下降法（gradient descent）\n",
    "模型系数的变化导致损失值发生可预测的微小变化，我们可以用一个叫做梯度的数学运算符来描述模型系数向不同方向移动时，损失值如何变化。计算出梯度就可以利用他来更新系数，使损失\n",
    "值减小（在一次更新中完成全部，而不是一次更新一个系数）\n"
   ]
  },
  {
   "cell_type": "code",
   "execution_count": null,
   "id": "ad808c69-68f6-42f3-b0d4-ca3cf206d6a0",
   "metadata": {},
   "outputs": [],
   "source": [
    "tensorflow 梯度带\n",
    "GradientTape 是一个API，可以利用这个进行自动微分运算，它是一个python的作用域，能够以计算机图的形式记录在其中运算的张量运算。计算机图可用来获取任意输出和相对于任意变量和变量集的梯度\n",
    "这些变量和变量集是tf.Variable类的实例。tf.Variable是一类用于保存可变状态的张量，比如神经网络的权重就是tf.Variable的实例\n"
   ]
  },
  {
   "cell_type": "code",
   "execution_count": 150,
   "id": "b3ce31dc-fd96-4a87-865c-32a4aa31e0f0",
   "metadata": {},
   "outputs": [
    {
     "name": "stdout",
     "output_type": "stream",
     "text": [
      "None\n"
     ]
    }
   ],
   "source": [
    "import tensorflow as tf \n",
    "x = tf.Variable(0)\n",
    "with tf.GradientTape() as tape:\n",
    "    y = 2*x+3\n",
    "grad_of_y_wrt_x = tape.gradient(y,x)\n",
    "print(grad_of_y_wrt_x)"
   ]
  },
  {
   "cell_type": "code",
   "execution_count": null,
   "id": "da98f1b2-d88a-4563-b2ef-470cc23858ce",
   "metadata": {},
   "outputs": [],
   "source": [
    "GradientTape 也可以用来张量运算"
   ]
  },
  {
   "cell_type": "code",
   "execution_count": 148,
   "id": "ada146be-c3c4-4d7d-8bb4-0faeb0b6321a",
   "metadata": {},
   "outputs": [],
   "source": [
    "x = tf.Variable(np.zeros((2,2)))\n",
    "with tf.GradientTape() as tape:\n",
    "    y = 2 * x +3 \n",
    "grad_of_y_wrt_x = tape.gradient(y,x)"
   ]
  },
  {
   "cell_type": "code",
   "execution_count": 149,
   "id": "a29d4b50-b41a-4e84-97aa-ccc0f5db614a",
   "metadata": {},
   "outputs": [
    {
     "name": "stdout",
     "output_type": "stream",
     "text": [
      "tf.Tensor(\n",
      "[[2. 2.]\n",
      " [2. 2.]], shape=(2, 2), dtype=float64)\n"
     ]
    }
   ],
   "source": [
    "print(grad_of_y_wrt_x)"
   ]
  },
  {
   "cell_type": "code",
   "execution_count": 151,
   "id": "de92e3af-996d-4ce4-84d3-c65c71c8ec6c",
   "metadata": {},
   "outputs": [
    {
     "name": "stdout",
     "output_type": "stream",
     "text": [
      "[<tf.Tensor: shape=(2, 2), dtype=float32, numpy=\n",
      "array([[1.3044302, 1.3044302],\n",
      "       [0.9692342, 0.9692342]], dtype=float32)>, <tf.Tensor: shape=(2,), dtype=float32, numpy=array([2., 2.], dtype=float32)>]\n"
     ]
    }
   ],
   "source": [
    "W = tf.Variable(tf.random.uniform((2,2)))\n",
    "b = tf.Variable(tf.zeros((2,)))\n",
    "x = tf.random.uniform((2,2))\n",
    "with tf.GradientTape() as tape:\n",
    "    y = tf.matmul(x, W) + b \n",
    "grad_of_y_wrt_W_and_b = tape.gradient(y, [W, b]) # 分别对W 和 b 进行求导， 获得的是两个张量，张量的形状和W 和 b是一致的\n",
    "print(grad_of_y_wrt_W_and_b)"
   ]
  },
  {
   "cell_type": "code",
   "execution_count": null,
   "id": "643b89b0-29e6-487e-b020-c27463640b4a",
   "metadata": {},
   "outputs": [],
   "source": [
    "手动从头创建一个tensorflow例\n",
    "1. 简单的Dense 类\n",
    "2. 简单的Sequential 类\n",
    "3. 批量生成器\n"
   ]
  },
  {
   "cell_type": "code",
   "execution_count": null,
   "id": "52a5308e-b90f-4787-a51d-fa175bc1ba16",
   "metadata": {},
   "outputs": [],
   "source": [
    "#1 简单的Dense类"
   ]
  },
  {
   "cell_type": "code",
   "execution_count": 152,
   "id": "bd6b8d16-c0de-4a87-adfe-8de32423dfb3",
   "metadata": {},
   "outputs": [],
   "source": [
    "import tensorflow as tf \n",
    "class NaiveDense:\n",
    "    def __init__(self, input_size, output_size, activation):\n",
    "        self.activation = activation\n",
    "        w_shape = (input_size, output_size)\n",
    "        w_initial_value = tf.random.uniform(w_shape, minval=0, maxval= 1e-1)\n",
    "        self.W = tf.Variable(w_initial_value)\n",
    "        b_shape = (output_size,)\n",
    "        b_initial_value = tf.zeros(b_shape)\n",
    "        self.b = tf.Variable(b_initial_value)\n",
    "    def __call__(self, inputs):\n",
    "        return self.activation(tf.matmul(inputs, self.W) + self.b)\n",
    "    @property\n",
    "    def weights(self):\n",
    "        return [self.W, self.b]"
   ]
  },
  {
   "cell_type": "code",
   "execution_count": 153,
   "id": "d5bf7e2b-9ecd-4e0d-9e36-1095c878acf4",
   "metadata": {},
   "outputs": [],
   "source": [
    "#2 简单的sequential类\n",
    "class NaiveSequential:\n",
    "    def __init__(self, layers):\n",
    "        self.layers = layers\n",
    "    def __call__(self, inputs):\n",
    "        x = inputs\n",
    "        for layer in self.layers:\n",
    "            x = layer(x)           # layer() 相当于NaiveDense 中的self.activation(tf.matmul(inputs, self.W) + self.b) 函数 输出的是权重\n",
    "        return x\n",
    "    @property\n",
    "    def weights(self):             # 把上一层的权重和这一层的权重累加（每个层之间是靠权重来联系的，并且是累加的）\n",
    "        weights = []\n",
    "        for layer in self.layers:\n",
    "            weights += layer.weights\n",
    "        return weights "
   ]
  },
  {
   "cell_type": "code",
   "execution_count": null,
   "id": "a01a1bb5-4860-4efc-a16a-1853874806ef",
   "metadata": {},
   "outputs": [],
   "source": [
    "利用这个NaiveDense类和NaiveSequential类，我们可以创建一个与Keras 类似的模型"
   ]
  },
  {
   "cell_type": "code",
   "execution_count": 154,
   "id": "23c4b0e0-4b89-4438-8a60-a9df51d6cad4",
   "metadata": {},
   "outputs": [],
   "source": [
    "model = NaiveSequential([\n",
    "    NaiveDense(input_size= 28*28, output_size=512, activation=tf.nn.relu),\n",
    "    NaiveDense(input_size=512, output_size=10, activation=tf.nn.softmax)\n",
    "])\n",
    "assert len(model.weights) == 4"
   ]
  },
  {
   "cell_type": "code",
   "execution_count": 163,
   "id": "87c29fbc-2b36-4667-8a03-40c3fc7a0e2e",
   "metadata": {},
   "outputs": [],
   "source": [
    "#2 小批量生成器\n",
    "import math\n",
    "class BatchGenerator:\n",
    "    def __init__(self, images, labels, batch_size=128):\n",
    "        assert len(images) == len(labels)\n",
    "        self.index = 0\n",
    "        self.images = images\n",
    "        self.labels = labels\n",
    "        self.batch_size = batch_size\n",
    "        self.num_batches = math.ceil(len(images) / batch_size)\n",
    "    def next(self):\n",
    "        images = self.images[self.index : self.index + self.batch_size]\n",
    "        labels = self.labels[self.index : self.index + self.batch_size]\n",
    "        self.index += self.batch_size\n",
    "        return images, labels \n"
   ]
  },
  {
   "cell_type": "code",
   "execution_count": null,
   "id": "9e06047b-e55f-43d1-bc01-d4e41a0561b0",
   "metadata": {},
   "outputs": [],
   "source": [
    "# 完成一次训练步骤，最难的一步就是在一批数据上运行模型后更新模型权重，需要做到以下几点\n",
    "#1 计算模型对图像批量的预测值\n",
    "#2 根据实际标签，计算这些预测值的损失值\n",
    "#3 计算损失相对于模型权重的梯度\n",
    "#4 将权重沿着梯度的反方向移动一小步\n"
   ]
  },
  {
   "cell_type": "code",
   "execution_count": 156,
   "id": "a2a5a9d5-9b69-4809-9be8-7e84e5e3311a",
   "metadata": {},
   "outputs": [],
   "source": [
    "def one_training_step(model, images_batch, labels_batch):\n",
    "    with tf.GradientTape() as tape:\n",
    "        predictions = model(images_batch)\n",
    "        per_sample_losses = tf.keras.losses.sparse_categorical_crossentropy(labels_batch, predictions) # 计算每个样品的损失值，\n",
    "        average_loss = tf.reduce_mean(per_sample_losses) \n",
    "    # 运行向前传播，在GradientTape 作用域内计算模型的预测值\n",
    "    gradients = tape.gradient(average_loss, model.weights)\n",
    "    # 计算损失相对于权重的梯度，输出的gradients是一个列表，每个元素对于model.weights列表中的权重\n",
    "    update_weights(gradients, model.weights)\n",
    "    # 利用梯度来更新权重 \n",
    "    return average_loss"
   ]
  },
  {
   "cell_type": "code",
   "execution_count": 157,
   "id": "7be812d7-36dd-4708-a13b-939c3d64c581",
   "metadata": {},
   "outputs": [],
   "source": [
    "from tensorflow.keras import optimizers\n",
    "optimizer = optimizers.SGD(learning_rate=1e-3)\n",
    "def update_weights(gradients, weights):\n",
    "    optimizer.apply_gradients(zip(gradients,weights)) # 根据小批量梯度下降来优化\n"
   ]
  },
  {
   "cell_type": "code",
   "execution_count": null,
   "id": "48f10b59-c0a1-4c09-8148-245eb8176bde",
   "metadata": {},
   "outputs": [],
   "source": [
    "完整的模型训练"
   ]
  },
  {
   "cell_type": "code",
   "execution_count": 159,
   "id": "88a0d316-09a7-4ce8-9539-3937d60cbc89",
   "metadata": {},
   "outputs": [],
   "source": [
    "def fit(model, images, labels, epochs, batch_size=128):\n",
    "    for epoch_counter in range(epochs):\n",
    "        print(f\"Epoch {epoch_counter}\")\n",
    "        batch_generator = BatchGenerator(images, labels)\n",
    "        for batch_counter in range(batch_generator.num_batches):\n",
    "            images_batch, labels_batch = batch_generator.next()\n",
    "            loss = one_training_step(model, images_batch, labels_batch)\n",
    "            if batch_counter % 100 == 0:\n",
    "                print(f\"loss at batch {batch_counter}: {loss:.2f}\")"
   ]
  },
  {
   "cell_type": "code",
   "execution_count": 164,
   "id": "167e3ae4-f917-4e8f-b761-2c1a2ab2b93c",
   "metadata": {},
   "outputs": [
    {
     "name": "stdout",
     "output_type": "stream",
     "text": [
      "Epoch 0\n",
      "loss at batch 0: 7.22\n",
      "loss at batch 100: 2.23\n",
      "loss at batch 200: 2.23\n",
      "loss at batch 300: 2.06\n",
      "loss at batch 400: 2.23\n",
      "Epoch 1\n",
      "loss at batch 0: 1.90\n",
      "loss at batch 100: 1.88\n",
      "loss at batch 200: 1.86\n",
      "loss at batch 300: 1.70\n",
      "loss at batch 400: 1.84\n",
      "Epoch 2\n",
      "loss at batch 0: 1.58\n",
      "loss at batch 100: 1.58\n",
      "loss at batch 200: 1.54\n",
      "loss at batch 300: 1.42\n",
      "loss at batch 400: 1.53\n",
      "Epoch 3\n",
      "loss at batch 0: 1.33\n",
      "loss at batch 100: 1.34\n",
      "loss at batch 200: 1.27\n",
      "loss at batch 300: 1.20\n",
      "loss at batch 400: 1.29\n",
      "Epoch 4\n",
      "loss at batch 0: 1.13\n",
      "loss at batch 100: 1.16\n",
      "loss at batch 200: 1.07\n",
      "loss at batch 300: 1.04\n",
      "loss at batch 400: 1.13\n",
      "Epoch 5\n",
      "loss at batch 0: 0.98\n",
      "loss at batch 100: 1.02\n",
      "loss at batch 200: 0.93\n",
      "loss at batch 300: 0.92\n",
      "loss at batch 400: 1.00\n",
      "Epoch 6\n",
      "loss at batch 0: 0.87\n",
      "loss at batch 100: 0.91\n",
      "loss at batch 200: 0.82\n",
      "loss at batch 300: 0.83\n",
      "loss at batch 400: 0.91\n",
      "Epoch 7\n",
      "loss at batch 0: 0.79\n",
      "loss at batch 100: 0.82\n",
      "loss at batch 200: 0.74\n",
      "loss at batch 300: 0.76\n",
      "loss at batch 400: 0.85\n",
      "Epoch 8\n",
      "loss at batch 0: 0.72\n",
      "loss at batch 100: 0.76\n",
      "loss at batch 200: 0.68\n",
      "loss at batch 300: 0.71\n",
      "loss at batch 400: 0.79\n",
      "Epoch 9\n",
      "loss at batch 0: 0.67\n",
      "loss at batch 100: 0.70\n",
      "loss at batch 200: 0.62\n",
      "loss at batch 300: 0.66\n",
      "loss at batch 400: 0.75\n"
     ]
    }
   ],
   "source": [
    "from tensorflow.keras.datasets import mnist\n",
    "(train_images, train_labels),(test_images, test_labels) = mnist.load_data()\n",
    "train_images = train_images.reshape((60000, 28*28))\n",
    "train_images = train_images.astype('float32') / 255\n",
    "test_images = test_images.reshape((10000, 28*28))\n",
    "test_images = test_images.astype('float32') / 255\n",
    "fit(model, train_images, train_labels, epochs=10, batch_size=128)"
   ]
  },
  {
   "cell_type": "code",
   "execution_count": 165,
   "id": "4e5e5004-f845-4cd4-8512-ed2c2df39501",
   "metadata": {},
   "outputs": [
    {
     "name": "stdout",
     "output_type": "stream",
     "text": [
      "accuracy:0.81\n"
     ]
    }
   ],
   "source": [
    "predictions = model(test_images)\n",
    "predictions = predictions.numpy()\n",
    "predicted_labels = np.argmax(predictions, axis=1)\n",
    "matches = predicted_labels == test_labels\n",
    "print(f\"accuracy:{matches.mean():.2f}\")"
   ]
  },
  {
   "cell_type": "code",
   "execution_count": 166,
   "id": "21b55ad0-cfa7-4b6d-b09a-3b638e178203",
   "metadata": {},
   "outputs": [
    {
     "data": {
      "text/plain": [
       "<__main__.NaiveSequential at 0x7ff61f325690>"
      ]
     },
     "execution_count": 166,
     "metadata": {},
     "output_type": "execute_result"
    }
   ],
   "source": [
    "model"
   ]
  },
  {
   "cell_type": "code",
   "execution_count": null,
   "id": "a2151833-2759-4a30-9249-80157db22f5b",
   "metadata": {},
   "outputs": [],
   "source": []
  }
 ],
 "metadata": {
  "kernelspec": {
   "display_name": "Python 3 (ipykernel)",
   "language": "python",
   "name": "python3"
  },
  "language_info": {
   "codemirror_mode": {
    "name": "ipython",
    "version": 3
   },
   "file_extension": ".py",
   "mimetype": "text/x-python",
   "name": "python",
   "nbconvert_exporter": "python",
   "pygments_lexer": "ipython3",
   "version": "3.10.8"
  }
 },
 "nbformat": 4,
 "nbformat_minor": 5
}
