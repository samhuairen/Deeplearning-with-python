{
  "nbformat": 4,
  "nbformat_minor": 0,
  "metadata": {
    "colab": {
      "provenance": [],
      "authorship_tag": "ABX9TyPZ+RVuaS07qrO/mFWa/mMo",
      "include_colab_link": true
    },
    "kernelspec": {
      "name": "python3",
      "display_name": "Python 3"
    },
    "language_info": {
      "name": "python"
    }
  },
  "cells": [
    {
      "cell_type": "markdown",
      "metadata": {
        "id": "view-in-github",
        "colab_type": "text"
      },
      "source": [
        "<a href=\"https://colab.research.google.com/github/samhuairen/Deeplearning-with-python/blob/main/chapter6_%E6%9C%BA%E5%99%A8%E5%AD%A6%E4%B9%A0%E6%AD%A5%E9%AA%A4.ipynb\" target=\"_parent\"><img src=\"https://colab.research.google.com/assets/colab-badge.svg\" alt=\"Open In Colab\"/></a>"
      ]
    },
    {
      "cell_type": "markdown",
      "source": [
        "# **机器学习的通用工作流程**\n",
        "主要包括以下几个方面：\n",
        "1. 如何定义一个机器学习问题\n",
        "2. 如何开发一个工作模型\n",
        "3. 如何在生产环境中部署和维护模型"
      ],
      "metadata": {
        "id": "Rug_c_qmNs7a"
      }
    },
    {
      "cell_type": "markdown",
      "source": [
        "6.1 定义任务\n",
        "\n",
        "6.1.1 定义问题，输入的数据是什么？预测的是什么？ 调研问题的各个方面，比如是那一类机器学习问题，是二元分类问题，还是三元分类问题，是一个回归问题还是一个排序问题\n",
        "\n",
        "6.1.2 收集数据集\n",
        "\n",
        "模型的泛化能力来自数据点的数量，标签的可靠性以及特征的质量。\n",
        "数据比算法更重要。\n",
        "调查表型需要专业人士来调查，比如玉米叶片的抗病性，分类\n",
        "数据标注是否需要软件，比如对玉米的叶片进行拍照，让专家进行打分。\n",
        "谨防非代表性数据\n",
        "训练数据不能代表生产数据。也就是说我们用来建模的数据和我们在实际生产中需要进行使用的数据是相似的。\n",
        "在玉米 GS 的模型中，我们用的训练的数据是来自于农民或者实验室人员种植的玉米表型数据，这个数据不是一个来自研究人员用比较规范的手段种植产生的数据，因此，这个数据和以后生产上用来做的数据是类似的。\n",
        "概念漂移：\n",
        "当年建立的模型，过几年就不够准确了，可能的原因是随着时间的变化，很多类型，都在变化。比如全基因组玉米模型是在 2023-2026 年建立的，但是随着气候的变化，该地区的环境和种植方式也在变化。育种的密度可能也会有变化，所以旧的模型变得不准确了。\n",
        "要解决这个问题，需要持续不断的收集数据，标注数据和模型再训练。\n",
        "\n",
        "6.1.3 理解数据\n",
        "\n",
        "理解数据为何具有预测性，对数据进行观察，可视化，总结\n",
        "\n",
        "6.1.4 选择衡量成果的指标\n",
        "\n",
        "选择合适才衡量指标，比如是精确度，准确性还是召回率\n"
      ],
      "metadata": {
        "id": "o5NHnnqeOBfV"
      }
    },
    {
      "cell_type": "markdown",
      "source": [
        "6.2 开发模型\n",
        "\n",
        "6.2.1 准备数据\n",
        "数据处理的目的是要把数据适合深度学习或者其他方法能识别的专有格式，比如张量。这包括向量化，规范化和缺失值的处理\n",
        "其中一种方法是 one-bot， 比如我们数据的数据是基因型是 AA， 那么 A，是从 ATCG 四个碱基中来的，比如 这些两个两个的编码可以总所有的编码中进行统一。\n",
        "在神经网络输入之前，我们对数据进行规范化，比如之前的数据只是图片数据，我们需转化成浮点数，然后对数据进行规范化，比如均值为 0，标准差 1\n",
        "缺失值的处理，缺失值的处理很关键，不能随意的给 0 或者其他，如果对于分类变量，我们可以设置缺失值分类，这样可以用系统进行预测。\n",
        "对于其他的缺失值，我们可以用一些算法进行填充。\n",
        "\n",
        "6.2.2\n",
        "选择评估方法\n",
        "\n",
        "简单的留出验证\n",
        "\n",
        "K 折交叉验证\n",
        "\n",
        "重复 K 折交叉验证\n",
        "\n",
        "6.2.3 超越基准\n",
        "\n",
        "6.2.4 扩大模型规模，开发一个过拟合的模型\n",
        "\n",
        "6.2.5 模型的正则化与调节超参数\n"
      ],
      "metadata": {
        "id": "07P2yy7hYhUm"
      }
    },
    {
      "cell_type": "markdown",
      "source": [
        "6.3 部署模型"
      ],
      "metadata": {
        "id": "t31-ZHU3hfHP"
      }
    },
    {
      "cell_type": "markdown",
      "source": [
        "监控模型在真实环境中的性能"
      ],
      "metadata": {
        "id": "v55SMdkqfOE9"
      }
    },
    {
      "cell_type": "markdown",
      "source": [
        "6.4 维护模型\n",
        "模型建好之后不是一劳永逸的。需要随着外部环境的变化，特征的变化进行更新迭代。"
      ],
      "metadata": {
        "id": "He4125wujawj"
      }
    },
    {
      "cell_type": "code",
      "execution_count": null,
      "metadata": {
        "id": "_N8K6J3TSEEv"
      },
      "outputs": [],
      "source": []
    }
  ]
}